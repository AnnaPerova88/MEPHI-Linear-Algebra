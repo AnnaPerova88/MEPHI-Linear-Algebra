{
  "cells": [
    {
      "cell_type": "markdown",
      "id": "b054bd88",
      "metadata": {
        "id": "b054bd88"
      },
      "source": [
        "# <center> Линейная алгебра в контексте линейных методов. Практика.\n",
        "\n",
        "## <center> Прогнозирование выработки газа на скважинах."
      ]
    },
    {
      "cell_type": "markdown",
      "id": "325bc80b",
      "metadata": {
        "id": "325bc80b"
      },
      "source": [
        "## Постановка задачи"
      ]
    },
    {
      "cell_type": "markdown",
      "id": "8247bd54",
      "metadata": {
        "id": "8247bd54"
      },
      "source": [
        "У Василия, основателя компании «Газ-Таз-Ваз-Нефть», дела идут в гору: у него уже функционирует 200 скважин для добычи газа. В этом году он открывает 30 новых скважин. Однако в целях оптимизации расходов и повышения дохода Василию необходимо оценить, сколько денег будет приносить ему каждая из скважин, а также понять, какие факторы (параметры скважин) потенциально сильнее всего повлияют на объём добычи газа. Для этого Василий решил нанять вас как специалиста в области Data Science.\n",
        "\n",
        "Василий представляет вам набор данных о добыче газа на своих скважинах. Файл с данными вы можете скачать на платформе.\n",
        "\n",
        "**Признаки в данных:**\n",
        "\n",
        "* Well — идентификатор скважины;\n",
        "* Por — пористость скважины (%);\n",
        "* Perm — проницаемость скважины;\n",
        "* AI — акустический импеданс ($кг/м^2 * 10^6$);\n",
        "* Brittle — коэффициент хрупкости скважины (%);\n",
        "* TOC — общий органический углерод (%);\n",
        "* VR — коэффициент отражения витринита (%);\n",
        "* Prod — добыча газа в сутки (млн. кубических футов).\n",
        "\n",
        "**Ваша задача** — построить регрессионную модель, которая прогнозирует выработку газа на скважине (целевой признак — Prod) на основе остальных характеристик скважины, и проинтерпретировать результаты вашей модели.\n",
        "\n",
        "Разделим задачу на две части:\n",
        "* В первой мы построим простейшую модель линейной регрессии, проанализируем результаты её работы и выберем наиболее значимые факторы для прогнозирования.\n",
        "* Во второй мы займёмся построением модели полиномиальной регрессии с регуляризацией и посмотрим на итоговые результаты моделирования.\n"
      ]
    },
    {
      "cell_type": "markdown",
      "id": "d67d069e",
      "metadata": {
        "id": "d67d069e"
      },
      "source": [
        "Импортируем необходимые библиотеки:"
      ]
    },
    {
      "cell_type": "code",
      "execution_count": null,
      "id": "83a555bc-8dff-4b7e-bba1-cd4f4a9e69b2",
      "metadata": {
        "id": "83a555bc-8dff-4b7e-bba1-cd4f4a9e69b2"
      },
      "outputs": [],
      "source": [
        "# Импорт библиотек\n",
        "import numpy as np # для работы с массивами\n",
        "import pandas as pd # для работы с DataFrame\n",
        "import seaborn as sns # библиотека для визуализации статистических данных\n",
        "import matplotlib.pyplot as plt # для построения графиков\n",
        "\n",
        "%matplotlib inline"
      ]
    },
    {
      "cell_type": "markdown",
      "id": "e689ddaf",
      "metadata": {
        "id": "e689ddaf"
      },
      "source": [
        "Прочитаем исходные данные:"
      ]
    },
    {
      "cell_type": "code",
      "execution_count": null,
      "id": "b7b5cd9b-703f-4dbc-a6e3-61d583eafcac",
      "metadata": {
        "colab": {
          "base_uri": "https://localhost:8080/",
          "height": 206
        },
        "id": "b7b5cd9b-703f-4dbc-a6e3-61d583eafcac",
        "outputId": "36266f48-03aa-4a21-8572-ea06e94a2ae3"
      },
      "outputs": [
        {
          "output_type": "execute_result",
          "data": {
            "text/plain": [
              "   Well    Por  Perm    AI  Brittle   TOC    VR         Prod\n",
              "0     1  12.08  2.92  2.80    81.40  1.16  2.31  4165.196191\n",
              "1     2  12.38  3.53  3.22    46.17  0.89  1.88  3561.146205\n",
              "2     3  14.02  2.59  4.01    72.80  0.89  2.72  4284.348574\n",
              "3     4  17.67  6.75  2.63    39.81  1.08  1.88  5098.680869\n",
              "4     5  17.52  4.57  3.18    10.94  1.51  1.90  3406.132832"
            ],
            "text/html": [
              "\n",
              "  <div id=\"df-163219f8-2b27-4326-a6b7-9e7c5837a81e\" class=\"colab-df-container\">\n",
              "    <div>\n",
              "<style scoped>\n",
              "    .dataframe tbody tr th:only-of-type {\n",
              "        vertical-align: middle;\n",
              "    }\n",
              "\n",
              "    .dataframe tbody tr th {\n",
              "        vertical-align: top;\n",
              "    }\n",
              "\n",
              "    .dataframe thead th {\n",
              "        text-align: right;\n",
              "    }\n",
              "</style>\n",
              "<table border=\"1\" class=\"dataframe\">\n",
              "  <thead>\n",
              "    <tr style=\"text-align: right;\">\n",
              "      <th></th>\n",
              "      <th>Well</th>\n",
              "      <th>Por</th>\n",
              "      <th>Perm</th>\n",
              "      <th>AI</th>\n",
              "      <th>Brittle</th>\n",
              "      <th>TOC</th>\n",
              "      <th>VR</th>\n",
              "      <th>Prod</th>\n",
              "    </tr>\n",
              "  </thead>\n",
              "  <tbody>\n",
              "    <tr>\n",
              "      <th>0</th>\n",
              "      <td>1</td>\n",
              "      <td>12.08</td>\n",
              "      <td>2.92</td>\n",
              "      <td>2.80</td>\n",
              "      <td>81.40</td>\n",
              "      <td>1.16</td>\n",
              "      <td>2.31</td>\n",
              "      <td>4165.196191</td>\n",
              "    </tr>\n",
              "    <tr>\n",
              "      <th>1</th>\n",
              "      <td>2</td>\n",
              "      <td>12.38</td>\n",
              "      <td>3.53</td>\n",
              "      <td>3.22</td>\n",
              "      <td>46.17</td>\n",
              "      <td>0.89</td>\n",
              "      <td>1.88</td>\n",
              "      <td>3561.146205</td>\n",
              "    </tr>\n",
              "    <tr>\n",
              "      <th>2</th>\n",
              "      <td>3</td>\n",
              "      <td>14.02</td>\n",
              "      <td>2.59</td>\n",
              "      <td>4.01</td>\n",
              "      <td>72.80</td>\n",
              "      <td>0.89</td>\n",
              "      <td>2.72</td>\n",
              "      <td>4284.348574</td>\n",
              "    </tr>\n",
              "    <tr>\n",
              "      <th>3</th>\n",
              "      <td>4</td>\n",
              "      <td>17.67</td>\n",
              "      <td>6.75</td>\n",
              "      <td>2.63</td>\n",
              "      <td>39.81</td>\n",
              "      <td>1.08</td>\n",
              "      <td>1.88</td>\n",
              "      <td>5098.680869</td>\n",
              "    </tr>\n",
              "    <tr>\n",
              "      <th>4</th>\n",
              "      <td>5</td>\n",
              "      <td>17.52</td>\n",
              "      <td>4.57</td>\n",
              "      <td>3.18</td>\n",
              "      <td>10.94</td>\n",
              "      <td>1.51</td>\n",
              "      <td>1.90</td>\n",
              "      <td>3406.132832</td>\n",
              "    </tr>\n",
              "  </tbody>\n",
              "</table>\n",
              "</div>\n",
              "    <div class=\"colab-df-buttons\">\n",
              "\n",
              "  <div class=\"colab-df-container\">\n",
              "    <button class=\"colab-df-convert\" onclick=\"convertToInteractive('df-163219f8-2b27-4326-a6b7-9e7c5837a81e')\"\n",
              "            title=\"Convert this dataframe to an interactive table.\"\n",
              "            style=\"display:none;\">\n",
              "\n",
              "  <svg xmlns=\"http://www.w3.org/2000/svg\" height=\"24px\" viewBox=\"0 -960 960 960\">\n",
              "    <path d=\"M120-120v-720h720v720H120Zm60-500h600v-160H180v160Zm220 220h160v-160H400v160Zm0 220h160v-160H400v160ZM180-400h160v-160H180v160Zm440 0h160v-160H620v160ZM180-180h160v-160H180v160Zm440 0h160v-160H620v160Z\"/>\n",
              "  </svg>\n",
              "    </button>\n",
              "\n",
              "  <style>\n",
              "    .colab-df-container {\n",
              "      display:flex;\n",
              "      gap: 12px;\n",
              "    }\n",
              "\n",
              "    .colab-df-convert {\n",
              "      background-color: #E8F0FE;\n",
              "      border: none;\n",
              "      border-radius: 50%;\n",
              "      cursor: pointer;\n",
              "      display: none;\n",
              "      fill: #1967D2;\n",
              "      height: 32px;\n",
              "      padding: 0 0 0 0;\n",
              "      width: 32px;\n",
              "    }\n",
              "\n",
              "    .colab-df-convert:hover {\n",
              "      background-color: #E2EBFA;\n",
              "      box-shadow: 0px 1px 2px rgba(60, 64, 67, 0.3), 0px 1px 3px 1px rgba(60, 64, 67, 0.15);\n",
              "      fill: #174EA6;\n",
              "    }\n",
              "\n",
              "    .colab-df-buttons div {\n",
              "      margin-bottom: 4px;\n",
              "    }\n",
              "\n",
              "    [theme=dark] .colab-df-convert {\n",
              "      background-color: #3B4455;\n",
              "      fill: #D2E3FC;\n",
              "    }\n",
              "\n",
              "    [theme=dark] .colab-df-convert:hover {\n",
              "      background-color: #434B5C;\n",
              "      box-shadow: 0px 1px 3px 1px rgba(0, 0, 0, 0.15);\n",
              "      filter: drop-shadow(0px 1px 2px rgba(0, 0, 0, 0.3));\n",
              "      fill: #FFFFFF;\n",
              "    }\n",
              "  </style>\n",
              "\n",
              "    <script>\n",
              "      const buttonEl =\n",
              "        document.querySelector('#df-163219f8-2b27-4326-a6b7-9e7c5837a81e button.colab-df-convert');\n",
              "      buttonEl.style.display =\n",
              "        google.colab.kernel.accessAllowed ? 'block' : 'none';\n",
              "\n",
              "      async function convertToInteractive(key) {\n",
              "        const element = document.querySelector('#df-163219f8-2b27-4326-a6b7-9e7c5837a81e');\n",
              "        const dataTable =\n",
              "          await google.colab.kernel.invokeFunction('convertToInteractive',\n",
              "                                                    [key], {});\n",
              "        if (!dataTable) return;\n",
              "\n",
              "        const docLinkHtml = 'Like what you see? Visit the ' +\n",
              "          '<a target=\"_blank\" href=https://colab.research.google.com/notebooks/data_table.ipynb>data table notebook</a>'\n",
              "          + ' to learn more about interactive tables.';\n",
              "        element.innerHTML = '';\n",
              "        dataTable['output_type'] = 'display_data';\n",
              "        await google.colab.output.renderOutput(dataTable, element);\n",
              "        const docLink = document.createElement('div');\n",
              "        docLink.innerHTML = docLinkHtml;\n",
              "        element.appendChild(docLink);\n",
              "      }\n",
              "    </script>\n",
              "  </div>\n",
              "\n",
              "\n",
              "<div id=\"df-313ba684-870f-47be-8d60-9cfcf0746287\">\n",
              "  <button class=\"colab-df-quickchart\" onclick=\"quickchart('df-313ba684-870f-47be-8d60-9cfcf0746287')\"\n",
              "            title=\"Suggest charts\"\n",
              "            style=\"display:none;\">\n",
              "\n",
              "<svg xmlns=\"http://www.w3.org/2000/svg\" height=\"24px\"viewBox=\"0 0 24 24\"\n",
              "     width=\"24px\">\n",
              "    <g>\n",
              "        <path d=\"M19 3H5c-1.1 0-2 .9-2 2v14c0 1.1.9 2 2 2h14c1.1 0 2-.9 2-2V5c0-1.1-.9-2-2-2zM9 17H7v-7h2v7zm4 0h-2V7h2v10zm4 0h-2v-4h2v4z\"/>\n",
              "    </g>\n",
              "</svg>\n",
              "  </button>\n",
              "\n",
              "<style>\n",
              "  .colab-df-quickchart {\n",
              "      --bg-color: #E8F0FE;\n",
              "      --fill-color: #1967D2;\n",
              "      --hover-bg-color: #E2EBFA;\n",
              "      --hover-fill-color: #174EA6;\n",
              "      --disabled-fill-color: #AAA;\n",
              "      --disabled-bg-color: #DDD;\n",
              "  }\n",
              "\n",
              "  [theme=dark] .colab-df-quickchart {\n",
              "      --bg-color: #3B4455;\n",
              "      --fill-color: #D2E3FC;\n",
              "      --hover-bg-color: #434B5C;\n",
              "      --hover-fill-color: #FFFFFF;\n",
              "      --disabled-bg-color: #3B4455;\n",
              "      --disabled-fill-color: #666;\n",
              "  }\n",
              "\n",
              "  .colab-df-quickchart {\n",
              "    background-color: var(--bg-color);\n",
              "    border: none;\n",
              "    border-radius: 50%;\n",
              "    cursor: pointer;\n",
              "    display: none;\n",
              "    fill: var(--fill-color);\n",
              "    height: 32px;\n",
              "    padding: 0;\n",
              "    width: 32px;\n",
              "  }\n",
              "\n",
              "  .colab-df-quickchart:hover {\n",
              "    background-color: var(--hover-bg-color);\n",
              "    box-shadow: 0 1px 2px rgba(60, 64, 67, 0.3), 0 1px 3px 1px rgba(60, 64, 67, 0.15);\n",
              "    fill: var(--button-hover-fill-color);\n",
              "  }\n",
              "\n",
              "  .colab-df-quickchart-complete:disabled,\n",
              "  .colab-df-quickchart-complete:disabled:hover {\n",
              "    background-color: var(--disabled-bg-color);\n",
              "    fill: var(--disabled-fill-color);\n",
              "    box-shadow: none;\n",
              "  }\n",
              "\n",
              "  .colab-df-spinner {\n",
              "    border: 2px solid var(--fill-color);\n",
              "    border-color: transparent;\n",
              "    border-bottom-color: var(--fill-color);\n",
              "    animation:\n",
              "      spin 1s steps(1) infinite;\n",
              "  }\n",
              "\n",
              "  @keyframes spin {\n",
              "    0% {\n",
              "      border-color: transparent;\n",
              "      border-bottom-color: var(--fill-color);\n",
              "      border-left-color: var(--fill-color);\n",
              "    }\n",
              "    20% {\n",
              "      border-color: transparent;\n",
              "      border-left-color: var(--fill-color);\n",
              "      border-top-color: var(--fill-color);\n",
              "    }\n",
              "    30% {\n",
              "      border-color: transparent;\n",
              "      border-left-color: var(--fill-color);\n",
              "      border-top-color: var(--fill-color);\n",
              "      border-right-color: var(--fill-color);\n",
              "    }\n",
              "    40% {\n",
              "      border-color: transparent;\n",
              "      border-right-color: var(--fill-color);\n",
              "      border-top-color: var(--fill-color);\n",
              "    }\n",
              "    60% {\n",
              "      border-color: transparent;\n",
              "      border-right-color: var(--fill-color);\n",
              "    }\n",
              "    80% {\n",
              "      border-color: transparent;\n",
              "      border-right-color: var(--fill-color);\n",
              "      border-bottom-color: var(--fill-color);\n",
              "    }\n",
              "    90% {\n",
              "      border-color: transparent;\n",
              "      border-bottom-color: var(--fill-color);\n",
              "    }\n",
              "  }\n",
              "</style>\n",
              "\n",
              "  <script>\n",
              "    async function quickchart(key) {\n",
              "      const quickchartButtonEl =\n",
              "        document.querySelector('#' + key + ' button');\n",
              "      quickchartButtonEl.disabled = true;  // To prevent multiple clicks.\n",
              "      quickchartButtonEl.classList.add('colab-df-spinner');\n",
              "      try {\n",
              "        const charts = await google.colab.kernel.invokeFunction(\n",
              "            'suggestCharts', [key], {});\n",
              "      } catch (error) {\n",
              "        console.error('Error during call to suggestCharts:', error);\n",
              "      }\n",
              "      quickchartButtonEl.classList.remove('colab-df-spinner');\n",
              "      quickchartButtonEl.classList.add('colab-df-quickchart-complete');\n",
              "    }\n",
              "    (() => {\n",
              "      let quickchartButtonEl =\n",
              "        document.querySelector('#df-313ba684-870f-47be-8d60-9cfcf0746287 button');\n",
              "      quickchartButtonEl.style.display =\n",
              "        google.colab.kernel.accessAllowed ? 'block' : 'none';\n",
              "    })();\n",
              "  </script>\n",
              "</div>\n",
              "    </div>\n",
              "  </div>\n"
            ],
            "application/vnd.google.colaboratory.intrinsic+json": {
              "type": "dataframe",
              "variable_name": "data",
              "summary": "{\n  \"name\": \"data\",\n  \"rows\": 200,\n  \"fields\": [\n    {\n      \"column\": \"Well\",\n      \"properties\": {\n        \"dtype\": \"number\",\n        \"std\": 57,\n        \"min\": 1,\n        \"max\": 200,\n        \"num_unique_values\": 200,\n        \"samples\": [\n          96,\n          16,\n          31\n        ],\n        \"semantic_type\": \"\",\n        \"description\": \"\"\n      }\n    },\n    {\n      \"column\": \"Por\",\n      \"properties\": {\n        \"dtype\": \"number\",\n        \"std\": 2.971176471640172,\n        \"min\": 6.55,\n        \"max\": 23.55,\n        \"num_unique_values\": 188,\n        \"samples\": [\n          11.95,\n          12.94,\n          14.73\n        ],\n        \"semantic_type\": \"\",\n        \"description\": \"\"\n      }\n    },\n    {\n      \"column\": \"Perm\",\n      \"properties\": {\n        \"dtype\": \"number\",\n        \"std\": 1.7310141499817924,\n        \"min\": 1.13,\n        \"max\": 9.87,\n        \"num_unique_values\": 110,\n        \"samples\": [\n          2.48,\n          4.39,\n          4.57\n        ],\n        \"semantic_type\": \"\",\n        \"description\": \"\"\n      }\n    },\n    {\n      \"column\": \"AI\",\n      \"properties\": {\n        \"dtype\": \"number\",\n        \"std\": 0.5668853255834102,\n        \"min\": 1.28,\n        \"max\": 4.63,\n        \"num_unique_values\": 128,\n        \"samples\": [\n          2.25,\n          2.56,\n          2.38\n        ],\n        \"semantic_type\": \"\",\n        \"description\": \"\"\n      }\n    },\n    {\n      \"column\": \"Brittle\",\n      \"properties\": {\n        \"dtype\": \"number\",\n        \"std\": 14.129454914411664,\n        \"min\": 10.94,\n        \"max\": 84.33,\n        \"num_unique_values\": 195,\n        \"samples\": [\n          56.29,\n          35.49,\n          56.09\n        ],\n        \"semantic_type\": \"\",\n        \"description\": \"\"\n      }\n    },\n    {\n      \"column\": \"TOC\",\n      \"properties\": {\n        \"dtype\": \"number\",\n        \"std\": 0.48158792775650433,\n        \"min\": -0.19,\n        \"max\": 2.18,\n        \"num_unique_values\": 120,\n        \"samples\": [\n          1.24,\n          1.97,\n          0.94\n        ],\n        \"semantic_type\": \"\",\n        \"description\": \"\"\n      }\n    },\n    {\n      \"column\": \"VR\",\n      \"properties\": {\n        \"dtype\": \"number\",\n        \"std\": 0.3008271845676094,\n        \"min\": 0.93,\n        \"max\": 2.87,\n        \"num_unique_values\": 95,\n        \"samples\": [\n          2.42,\n          2.04,\n          2.08\n        ],\n        \"semantic_type\": \"\",\n        \"description\": \"\"\n      }\n    },\n    {\n      \"column\": \"Prod\",\n      \"properties\": {\n        \"dtype\": \"number\",\n        \"std\": 992.0384140187238,\n        \"min\": 2107.139414,\n        \"max\": 6662.622385,\n        \"num_unique_values\": 200,\n        \"samples\": [\n          5350.949293,\n          3539.984263,\n          5859.748328\n        ],\n        \"semantic_type\": \"\",\n        \"description\": \"\"\n      }\n    }\n  ]\n}"
            }
          },
          "metadata": {},
          "execution_count": 4
        }
      ],
      "source": [
        "data = pd.read_csv('sample_data/unconv.csv')\n",
        "data.head()"
      ]
    },
    {
      "cell_type": "markdown",
      "id": "58639b40",
      "metadata": {
        "id": "58639b40"
      },
      "source": [
        "## Практика: линейная регрессия по методу наименьших квадратов"
      ]
    },
    {
      "cell_type": "markdown",
      "id": "a90535b8",
      "metadata": {
        "id": "a90535b8"
      },
      "source": [
        "Для начала построим простейшую модель линейной регрессии, проанализируем результаты её работы и выберем наиболее значимые факторы для прогнозирования.\n",
        "\n",
        "В первой части вам предстоит выполнить задания 5.0–5.6. Максимальное количество баллов, которое можно получить, — 9."
      ]
    },
    {
      "cell_type": "markdown",
      "id": "4061b706",
      "metadata": {
        "id": "4061b706"
      },
      "source": [
        "### Задание 5.0. (не оценивается)\n",
        "\n",
        "Проведите небольшой разведывательный анализ, чтобы поближе познакомиться с исходными данными. Постройте несколько визуализаций, которые помогут вам понять, как устроены исходные признаки, а также смогут продемонстрировать взаимосвязь факторов.\n",
        "\n",
        "Сделайте промежуточные выводы из проведённого разведывательного анализа."
      ]
    },
    {
      "cell_type": "code",
      "execution_count": null,
      "id": "daf1ccc7",
      "metadata": {
        "id": "daf1ccc7",
        "colab": {
          "base_uri": "https://localhost:8080/"
        },
        "outputId": "5355b834-3789-4395-ebaf-e2fa12db7701"
      },
      "outputs": [
        {
          "output_type": "stream",
          "name": "stdout",
          "text": [
            "   Well    Por  Perm    AI  Brittle   TOC    VR         Prod\n",
            "0     1  12.08  2.92  2.80    81.40  1.16  2.31  4165.196191\n",
            "1     2  12.38  3.53  3.22    46.17  0.89  1.88  3561.146205\n",
            "2     3  14.02  2.59  4.01    72.80  0.89  2.72  4284.348574\n",
            "3     4  17.67  6.75  2.63    39.81  1.08  1.88  5098.680869\n",
            "4     5  17.52  4.57  3.18    10.94  1.51  1.90  3406.132832\n",
            "Well       0\n",
            "Por        0\n",
            "Perm       0\n",
            "AI         0\n",
            "Brittle    0\n",
            "TOC        0\n",
            "VR         0\n",
            "Prod       0\n",
            "dtype: int64\n",
            "             Well         Por        Perm          AI     Brittle         TOC  \\\n",
            "count  200.000000  200.000000  200.000000  200.000000  200.000000  200.000000   \n",
            "mean   100.500000   14.991150    4.330750    2.968850   48.161950    0.990450   \n",
            "std     57.879185    2.971176    1.731014    0.566885   14.129455    0.481588   \n",
            "min      1.000000    6.550000    1.130000    1.280000   10.940000   -0.190000   \n",
            "25%     50.750000   12.912500    3.122500    2.547500   37.755000    0.617500   \n",
            "50%    100.500000   15.070000    4.035000    2.955000   49.510000    1.030000   \n",
            "75%    150.250000   17.402500    5.287500    3.345000   58.262500    1.350000   \n",
            "max    200.000000   23.550000    9.870000    4.630000   84.330000    2.180000   \n",
            "\n",
            "               VR         Prod  \n",
            "count  200.000000   200.000000  \n",
            "mean     1.964300  4311.219852  \n",
            "std      0.300827   992.038414  \n",
            "min      0.930000  2107.139414  \n",
            "25%      1.770000  3618.064513  \n",
            "50%      1.960000  4284.687348  \n",
            "75%      2.142500  5086.089761  \n",
            "max      2.870000  6662.622385  \n"
          ]
        }
      ],
      "source": [
        "import pandas as pd\n",
        "import seaborn as sns\n",
        "import matplotlib.pyplot as plt\n",
        "\n",
        "# Загрузка данных\n",
        "data = pd.read_csv('sample_data/unconv.csv')\n",
        "\n",
        "# Просмотр первых строк данных\n",
        "print(data.head())\n",
        "\n",
        "# Проверка наличия пропущенных значений\n",
        "print(data.isnull().sum())\n",
        "\n",
        "# Описание статистических характеристик данных\n",
        "print(data.describe())"
      ]
    },
    {
      "cell_type": "markdown",
      "id": "d11cb44f",
      "metadata": {
        "id": "d11cb44f"
      },
      "source": [
        "### Задание 5.1. (2 балла)\n",
        "\n",
        "Постройте корреляционную матрицу факторов, включив в неё целевой признак.\n",
        "\n",
        "Для наглядности визуализируйте полученную матрицу с помощью тепловой карты.\n",
        "\n",
        "**Примечание.** *Для визуализации вы можете использовать любую из знакомых вам библиотек.*\n",
        "\n",
        "На основе построенной корреляционной матрицы ответьте на следующий вопрос:\n",
        "\n",
        "* Какие факторы сильнее всего коррелируют с целевой переменной?\n",
        "\n",
        "Вычислите ранг и определитель полученной матрицы корреляций и приведите развёрнутые ответы на следующие вопросы:\n",
        "* Является ли корреляционная матрица плохо обусловенной (близок ли её опредитель к нулю)?\n",
        "* Что вы можете сказать о наличии коллинераности/мультиколлинеарности в данных?\n",
        "* Применима ли в данном случае модель классической линейной регрессии по методу наименьших квадратов и почему?"
      ]
    },
    {
      "cell_type": "markdown",
      "source": [
        "**Критерии оценивания:**\n",
        "- Задание выполнено верно, учтены все условия (**2 балла**):\n",
        "    * приведён код для расчёта корреляционной матрицы;\n",
        "    * приведён код для визуализации корреляционной матрицы в виде тепловой карты;\n",
        "    * рассчитаны ранг и определитель корреляционной матрицы;\n",
        "    * предоставлены обоснованные ответы на все поставленные вопросы.\n",
        "\n",
        "- Задание выполнено верно, но не учтено одно условие (**1 балл**).\n",
        "- Задание выполнено неверно, не учтено несколько условий (**0 баллов**)."
      ],
      "metadata": {
        "id": "57OjUl5e2oiL"
      },
      "id": "57OjUl5e2oiL"
    },
    {
      "cell_type": "code",
      "execution_count": null,
      "id": "af00a5a0",
      "metadata": {
        "id": "af00a5a0"
      },
      "outputs": [],
      "source": [
        "#\n",
        "import pandas as pd\n",
        "import seaborn as sns\n",
        "import matplotlib.pyplot as plt\n",
        "\n",
        "\n",
        "\n",
        "\n",
        "\n",
        "\n"
      ]
    },
    {
      "cell_type": "code",
      "source": [
        "df = pd.read_csv('sample_data/unconv.csv')"
      ],
      "metadata": {
        "id": "srWrMSZBoqoU"
      },
      "id": "srWrMSZBoqoU",
      "execution_count": null,
      "outputs": []
    },
    {
      "cell_type": "code",
      "source": [
        "corr_matrix = df.corr()"
      ],
      "metadata": {
        "id": "oDo27y9vo3Kr"
      },
      "id": "oDo27y9vo3Kr",
      "execution_count": null,
      "outputs": []
    },
    {
      "cell_type": "code",
      "source": [
        "plt.figure(figsize=(10, 8))\n",
        "sns.heatmap(corr_matrix, annot=True, cmap='coolwarm', fmt='.2f', linewidths=0.5)\n",
        "plt.title('Корреляционная матрица')\n",
        "plt.show()"
      ],
      "metadata": {
        "colab": {
          "base_uri": "https://localhost:8080/",
          "height": 699
        },
        "id": "W2PWv_Xso6js",
        "outputId": "d08978a6-1d33-4660-ecd1-0ac3d8fc070a"
      },
      "id": "W2PWv_Xso6js",
      "execution_count": null,
      "outputs": [
        {
          "output_type": "display_data",
          "data": {
            "text/plain": [
              "<Figure size 1000x800 with 2 Axes>"
            ],
            "image/png": "[encoded data removed]"
          },
          "metadata": {}
        }
      ]
    },
    {
      "cell_type": "markdown",
      "id": "9a56013d",
      "metadata": {
        "id": "9a56013d"
      },
      "source": [
        "> *Ваши выводы здесь*"
      ]
    },
    {
      "cell_type": "markdown",
      "id": "43fd91c4",
      "metadata": {
        "id": "43fd91c4"
      },
      "source": [
        "### Задание 5.2. (2 балла)\n",
        "\n",
        "Создайте матрицу наблюдений `X` и вектор правильных ответов `y`. В качестве факторов для матрицы наблюдений возьмите все имеющиеся в данных признаки.\n",
        "\n",
        "Постройте модель линейной регрессии по методу наименьших квадратов. Для этого воспользуйтесь матричной формулой МНК и инструментарием библиотеки numpy.\n",
        "\n",
        "Выведите на экран полученные оценки коэффициентов модели, округлённые до целого.\n",
        "\n",
        "Приведите подробные выводы по полученным результатам, ответив на следующие вопросы:\n",
        "* Есть ли в ваших данных признаки, которые, согласно модели, можно назвать неинформативными, то есть они не оказывают влияния на целевую переменную или оказывают шумовое влияние?\n",
        "* Приведите интерпретацию нескольких (двух или трёх) коэффициентов полученной модели линейной регрессии.\n"
      ]
    },
    {
      "cell_type": "markdown",
      "source": [
        "**Критерии оценивания:**\n",
        "- Задание выполнено верно, учтены все условия (**2 балла**):\n",
        "    * приведён код для нахождения параметров модели линейной регрессии с помощью матричной формулы МНК;\n",
        "    * на основе полученных параметров даны верные ответы на поставленные вопросы;\n",
        "    * приведена корректная интерпретация нескольких коэффициентов полученной модели линейной регрессии.\n",
        "\n",
        "- Задание выполнено верно, но не учтено одно из условий (**1 балл**).\n",
        "- Задание выполнено неверно, не учтено несколько условий (**0 баллов**)."
      ],
      "metadata": {
        "id": "QtNtTUzI4Cpq"
      },
      "id": "QtNtTUzI4Cpq"
    },
    {
      "cell_type": "code",
      "execution_count": null,
      "id": "5724288c",
      "metadata": {
        "id": "5724288c"
      },
      "outputs": [],
      "source": [
        "import numpy as np\n",
        "import pandas as pd\n",
        "\n",
        "# Загрузка данных\n",
        "# df = pd.read_csv('path_to_your_data.csv')  # Замените на путь к вашему файлу\n",
        "\n",
        "# Разделение данных на матрицу признаков X и вектор целевой переменной y\n",
        "X = df.iloc[:, :-1].values  # Все столбцы, кроме последнего\n",
        "y = df.iloc[:, -1].values   # Последний столбец\n"
      ]
    },
    {
      "cell_type": "code",
      "source": [
        "# Добавление столбца единиц к X\n",
        "X = np.hstack((np.ones((X.shape[0], 1)), X))"
      ],
      "metadata": {
        "id": "UcU3sk8Rxhcp"
      },
      "id": "UcU3sk8Rxhcp",
      "execution_count": null,
      "outputs": []
    },
    {
      "cell_type": "code",
      "source": [
        "# Расчет коэффициентов линейной регрессии методом наименьших квадратов\n",
        "X_transpose = X.T\n",
        "beta = np.linalg.inv(X_transpose @ X) @ X_transpose @ y\n",
        "\n",
        "# Округление коэффициентов до целого\n",
        "beta_rounded = np.round(beta)\n",
        "print(\"Оценки коэффициентов модели (округленные до целого):\", beta_rounded)"
      ],
      "metadata": {
        "colab": {
          "base_uri": "https://localhost:8080/"
        },
        "id": "b9pDhd6QxlgR",
        "outputId": "06ac8b73-8e56-44a8-f70f-72c323d9361c"
      },
      "id": "b9pDhd6QxlgR",
      "execution_count": null,
      "outputs": [
        {
          "output_type": "stream",
          "name": "stdout",
          "text": [
            "Оценки коэффициентов модели (округленные до целого): [-1232.     0.   230.   116.  -365.    25.   -78.   785.]\n"
          ]
        }
      ]
    },
    {
      "cell_type": "markdown",
      "id": "bab9ee21",
      "metadata": {
        "id": "bab9ee21"
      },
      "source": [
        "> *Ваши выводы здесь*"
      ]
    },
    {
      "cell_type": "markdown",
      "id": "4a05a4ac",
      "metadata": {
        "id": "4a05a4ac"
      },
      "source": [
        "### Задание 5.3. (1 балл)\n",
        "\n",
        "Теперь потренируемся строить предсказание для наблюдений целевой переменной.\n",
        "\n",
        "**а)** Постройте прогноз выработки газа для скважины со следующими параметрами:\n",
        "\n",
        "```python\n",
        "{\n",
        "    'Well': 106.0,\n",
        "    'Por': 15.32,\n",
        "    'Perm': 3.71,\n",
        "    'AI': 3.29,\n",
        "    'Brittle': 55.99,\n",
        "    'TOC': 1.35,\n",
        "    'VR': 2.42\n",
        " }\n",
        "```\n",
        "\n",
        "Рассчитайте абсолютную ошибку построенного вами прогноза для предложенной скважины (в миллионах кубических футов в день), если известно, что на этой скважине производится `4748.315024` миллионов кубических футов газа в день.\n",
        "\n",
        "**б)** Постройте прогноз выработки газа для всех скважин из обучающего набора данных. Выберите метрику, по которой вы будете оценивать качество регрессионных моделей и сравнивать их между собой (можно использовать несколько метрик, но не более двух).\n",
        "\n",
        "Рассчитайте значение выбранной метрики для вашей модели. Приведите интерпретацию полученного результата."
      ]
    },
    {
      "cell_type": "markdown",
      "source": [
        "**Критерии оценивания:**\n",
        "- Задание выполнено верно, учтены все условия (**1 балл**):\n",
        "    * приведён код для построения прогноза выработки газа на указанной скважине и рассчитана абсолютная ошибка прогноза для этой скважины;\n",
        "    * выбрана корректная для поставленной задачи метрика (или метрики) оценки качества модели и приведён код для расчёта этой метрики на всём обучающем наборе данных;\n",
        "    * приведена корректная интерпретация полученного результата.\n",
        "\n",
        "- Задание выполнено верно, но не учтено одно из условий, или задание выполнено неверно (**0 баллов**)."
      ],
      "metadata": {
        "id": "qUDcep5Q5GWU"
      },
      "id": "qUDcep5Q5GWU"
    },
    {
      "cell_type": "code",
      "execution_count": null,
      "id": "e4291db0",
      "metadata": {
        "id": "e4291db0"
      },
      "outputs": [],
      "source": [
        "# Заданные параметры скважины\n",
        "new_well = {\n",
        "    'Well': 106.0,\n",
        "    'Por': 15.32,\n",
        "    'Perm': 3.71,\n",
        "    'AI': 3.29,\n",
        "    'Brittle': 55.99,\n",
        "    'TOC': 1.35,\n",
        "    'VR': 2.42\n",
        "}\n",
        "\n",
        "# Преобразование вектора признаков в массив и добавление единицы для свободного члена\n",
        "X_new = np.array([1] + list(new_well.values())).reshape(1, -1)"
      ]
    },
    {
      "cell_type": "code",
      "source": [
        "# Прогнозирование выработки газа. Использование ранее рассчитанных коэффициентов beta\n",
        "y_pred_new = X_new @ beta\n",
        "print(f'Прогнозируемая выработка газа: {y_pred_new[0]:.2f} миллионов кубических футов в день')"
      ],
      "metadata": {
        "colab": {
          "base_uri": "https://localhost:8080/"
        },
        "id": "t7q1dONMyBou",
        "outputId": "64bd723f-cedb-428d-c2fe-11bbd096b342"
      },
      "id": "t7q1dONMyBou",
      "execution_count": null,
      "outputs": [
        {
          "output_type": "stream",
          "name": "stdout",
          "text": [
            "Прогнозируемая выработка газа: 4723.06 миллионов кубических футов в день\n"
          ]
        }
      ]
    },
    {
      "cell_type": "code",
      "source": [
        "# Фактическое значение выработки газа\n",
        "y_actual_new = 4748.315024\n",
        "\n",
        "# Абсолютная ошибка\n",
        "absolute_error = abs(y_actual_new - y_pred_new[0])\n",
        "print(f'Абсолютная ошибка прогноза: {absolute_error:.2f} миллионов кубических футов в день')"
      ],
      "metadata": {
        "colab": {
          "base_uri": "https://localhost:8080/"
        },
        "id": "ih3USPipyIC5",
        "outputId": "8bea8902-136c-4cbf-f2f1-7dd550127c4d"
      },
      "id": "ih3USPipyIC5",
      "execution_count": null,
      "outputs": [
        {
          "output_type": "stream",
          "name": "stdout",
          "text": [
            "Абсолютная ошибка прогноза: 25.25 миллионов кубических футов в день\n"
          ]
        }
      ]
    },
    {
      "cell_type": "code",
      "source": [
        "# Прогнозирование выработки газа для всех скважин и оценка качества модели\n",
        "# Прогнозирование на обучающем наборе данных\n",
        "y_pred_all = X @ beta"
      ],
      "metadata": {
        "id": "bf5zEBcOyMlR"
      },
      "id": "bf5zEBcOyMlR",
      "execution_count": null,
      "outputs": []
    },
    {
      "cell_type": "code",
      "source": [
        "from sklearn.metrics import mean_absolute_error, r2_score\n",
        "\n",
        "# Расчет MAE\n",
        "mae = mean_absolute_error(y, y_pred_all)\n",
        "print(f'Средняя абсолютная ошибка (MAE): {mae:.2f} миллионов кубических футов в день')\n",
        "\n",
        "# Расчет R²\n",
        "r2 = r2_score(y, y_pred_all)\n",
        "print(f'Коэффициент детерминации (R²): {r2:.4f}')\n",
        "\n",
        "\n",
        "# Интерпретация результатов:\n",
        "# MAE: показывает среднюю абсолютную величину ошибки прогноза. Например, MAE = 100 означает, что в среднем модель ошибается на 100 миллионов кубических футов в день.\n",
        "# R²: показывает долю дисперсии целевой переменной, объясненную моделью. Значение R², близкое к 1, свидетельствует о хорошем соответствии модели данным, тогда как значение, близкое к 0, указывает на слабое объяснение дисперсии."
      ],
      "metadata": {
        "colab": {
          "base_uri": "https://localhost:8080/"
        },
        "id": "8m8EStR1yav8",
        "outputId": "2eba5044-c603-48ca-a058-077527341490"
      },
      "id": "8m8EStR1yav8",
      "execution_count": null,
      "outputs": [
        {
          "output_type": "stream",
          "name": "stdout",
          "text": [
            "Средняя абсолютная ошибка (MAE): 153.62 миллионов кубических футов в день\n",
            "Коэффициент детерминации (R²): 0.9599\n"
          ]
        }
      ]
    },
    {
      "cell_type": "code",
      "source": [],
      "metadata": {
        "id": "pgTS-p331ws2"
      },
      "id": "pgTS-p331ws2",
      "execution_count": null,
      "outputs": []
    },
    {
      "cell_type": "markdown",
      "id": "c9bee4bc",
      "metadata": {
        "id": "c9bee4bc"
      },
      "source": [
        "# Комментарии к решению\n",
        ">Построенная модель **линейной регрессии** позволяет **прогнозировать выработку газа** на основе **заданных параметров скважины.**\n",
        "\n",
        "Расчет абсолютной ошибки для конкретной скважины дает представление о точности прогноза.\n",
        "\n",
        "Оценка модели с помощью **метрик MSE и R²** позволяет количественно определить качество модели и ее способность объяснять вариации в данных.\n",
        "\n",
        "**MAE**: Среднее отклонение прогноза от фактического значения составляет 153,62 миллиона кубических футов в день. В зависимости от контекста и масштабов производства газа, это отклонение может быть приемлемым или требовать улучшения модели.\n",
        "\n",
        "**R²:** Высокое значение R² (95,99%) свидетельствует о том, что модель эффективно объясняет вариации в данных. Однако важно помнить, что высокий R² не гарантирует точных прогнозов, поэтому следует учитывать и другие метрики, такие как MAE, для полной оценки качества модели.\n",
        "\n",
        "Таким образом, **наша модель демонстрирует хорошее соответствие данным**, но средняя абсолютная ошибка указывает на необходимость дальнейшего анализа и, возможно, улучшения модели для повышения точности прогнозов.\n",
        "\n",
        "редняя абсолютная ошибка (MAE) в 153,62 миллиона кубических футов в день может показаться значительной. Однако, чтобы оценить её масштаб, необходимо соотнести это значение с типичными объёмами добычи газа на скважинах.\n",
        "\n",
        "Согласно данным, среднесуточная добыча газа на одну скважину может составлять около 65 баррелей нефтяного эквивалента в день\n",
        "\n",
        "Преобразуя это значение в кубические футы, получаем приблизительно 390 тысяч кубических футов в день.\n",
        "\n",
        "Сравнивая MAE с этим значением, видно, что средняя абсолютная ошибка значительно превышает типичный объём добычи газа на одну скважину. Это указывает на то, что модель может иметь существенные отклонения в прогнозах, что снижает её практическую применимость.\n",
        "\n",
        "Таким образом, MAE в 153,62 миллиона кубических футов в день является очень высоким значением, что свидетельствует о необходимости пересмотра модели или данных для улучшения точности прогнозов."
      ]
    },
    {
      "cell_type": "code",
      "source": [
        "import numpy as np\n",
        "import pandas as pd\n",
        "from sklearn.preprocessing import StandardScaler, PolynomialFeatures\n",
        "from sklearn.linear_model import Ridge\n",
        "from sklearn.model_selection import train_test_split, cross_val_score\n",
        "from sklearn.metrics import mean_absolute_error"
      ],
      "metadata": {
        "id": "IYCWba6F6o_E"
      },
      "id": "IYCWba6F6o_E",
      "execution_count": null,
      "outputs": []
    },
    {
      "cell_type": "code",
      "source": [
        "# Загрузка и подготовка данных\n",
        "# Загрузка данных\n",
        "data = pd.read_csv('sample_data/unconv.csv')\n",
        "\n",
        "# Формирование матрицы признаков X и целевой переменной y\n",
        "X = data.drop(columns=['Well', 'Prod'])\n",
        "y = data['Prod']"
      ],
      "metadata": {
        "id": "pRkZRGVp6qdA"
      },
      "id": "pRkZRGVp6qdA",
      "execution_count": null,
      "outputs": []
    },
    {
      "cell_type": "code",
      "source": [
        "# Разделение данных: 80% на обучение, 20% на тестирование\n",
        "X_train, X_test, y_train, y_test = train_test_split(X, y, test_size=0.2, random_state=42)"
      ],
      "metadata": {
        "id": "obzMjUjZ70Pg"
      },
      "id": "obzMjUjZ70Pg",
      "execution_count": null,
      "outputs": []
    },
    {
      "cell_type": "code",
      "source": [
        "# Cтандартизация признаков\n",
        "# Инициализация стандартизатора\n",
        "scaler = StandardScaler()\n",
        "\n",
        "# Обучение стандартизатора на обучающих данных и преобразование\n",
        "X_train_scaled = scaler.fit_transform(X_train)\n",
        "\n",
        "# Преобразование тестовых данных\n",
        "X_test_scaled = scaler.transform(X_test)"
      ],
      "metadata": {
        "id": "9OLEneIz71vd"
      },
      "id": "9OLEneIz71vd",
      "execution_count": null,
      "outputs": []
    },
    {
      "cell_type": "code",
      "source": [
        "# Генерализация Полиномиальных признаков\n",
        "# Инициализация генератора полиномиальных признаков степени 3\n",
        "poly = PolynomialFeatures(degree=3, include_bias=False)\n",
        "\n",
        "# Обучение генератора на обучающих данных и преобразование\n",
        "X_train_poly = poly.fit_transform(X_train_scaled)\n",
        "\n",
        "# Преобразование тестовых данных\n",
        "X_test_poly = poly.transform(X_test_scaled)"
      ],
      "metadata": {
        "id": "zqKUDO9U8EiC"
      },
      "id": "zqKUDO9U8EiC",
      "execution_count": null,
      "outputs": []
    },
    {
      "cell_type": "code",
      "source": [
        "# Инициализация модели Ridge-регрессии с параметром регуляризации alpha=1.0\n",
        "ridge = Ridge(alpha=1.0)\n",
        "\n",
        "# Обучение модели на полиномиальных признаках\n",
        "ridge.fit(X_train_poly, y_train)"
      ],
      "metadata": {
        "colab": {
          "base_uri": "https://localhost:8080/",
          "height": 80
        },
        "id": "4aOkI9KJ8MSQ",
        "outputId": "aef71c55-11d2-451a-dab7-be00f5cd25c1"
      },
      "id": "4aOkI9KJ8MSQ",
      "execution_count": null,
      "outputs": [
        {
          "output_type": "execute_result",
          "data": {
            "text/plain": [
              "Ridge()"
            ],
            "text/html": [
              "<style>#sk-container-id-1 {\n",
              "  /* Definition of color scheme common for light and dark mode */\n",
              "  --sklearn-color-text: black;\n",
              "  --sklearn-color-line: gray;\n",
              "  /* Definition of color scheme for unfitted estimators */\n",
              "  --sklearn-color-unfitted-level-0: #fff5e6;\n",
              "  --sklearn-color-unfitted-level-1: #f6e4d2;\n",
              "  --sklearn-color-unfitted-level-2: #ffe0b3;\n",
              "  --sklearn-color-unfitted-level-3: chocolate;\n",
              "  /* Definition of color scheme for fitted estimators */\n",
              "  --sklearn-color-fitted-level-0: #f0f8ff;\n",
              "  --sklearn-color-fitted-level-1: #d4ebff;\n",
              "  --sklearn-color-fitted-level-2: #b3dbfd;\n",
              "  --sklearn-color-fitted-level-3: cornflowerblue;\n",
              "\n",
              "  /* Specific color for light theme */\n",
              "  --sklearn-color-text-on-default-background: var(--sg-text-color, var(--theme-code-foreground, var(--jp-content-font-color1, black)));\n",
              "  --sklearn-color-background: var(--sg-background-color, var(--theme-background, var(--jp-layout-color0, white)));\n",
              "  --sklearn-color-border-box: var(--sg-text-color, var(--theme-code-foreground, var(--jp-content-font-color1, black)));\n",
              "  --sklearn-color-icon: #696969;\n",
              "\n",
              "  @media (prefers-color-scheme: dark) {\n",
              "    /* Redefinition of color scheme for dark theme */\n",
              "    --sklearn-color-text-on-default-background: var(--sg-text-color, var(--theme-code-foreground, var(--jp-content-font-color1, white)));\n",
              "    --sklearn-color-background: var(--sg-background-color, var(--theme-background, var(--jp-layout-color0, #111)));\n",
              "    --sklearn-color-border-box: var(--sg-text-color, var(--theme-code-foreground, var(--jp-content-font-color1, white)));\n",
              "    --sklearn-color-icon: #878787;\n",
              "  }\n",
              "}\n",
              "\n",
              "#sk-container-id-1 {\n",
              "  color: var(--sklearn-color-text);\n",
              "}\n",
              "\n",
              "#sk-container-id-1 pre {\n",
              "  padding: 0;\n",
              "}\n",
              "\n",
              "#sk-container-id-1 input.sk-hidden--visually {\n",
              "  border: 0;\n",
              "  clip: rect(1px 1px 1px 1px);\n",
              "  clip: rect(1px, 1px, 1px, 1px);\n",
              "  height: 1px;\n",
              "  margin: -1px;\n",
              "  overflow: hidden;\n",
              "  padding: 0;\n",
              "  position: absolute;\n",
              "  width: 1px;\n",
              "}\n",
              "\n",
              "#sk-container-id-1 div.sk-dashed-wrapped {\n",
              "  border: 1px dashed var(--sklearn-color-line);\n",
              "  margin: 0 0.4em 0.5em 0.4em;\n",
              "  box-sizing: border-box;\n",
              "  padding-bottom: 0.4em;\n",
              "  background-color: var(--sklearn-color-background);\n",
              "}\n",
              "\n",
              "#sk-container-id-1 div.sk-container {\n",
              "  /* jupyter's `normalize.less` sets `[hidden] { display: none; }`\n",
              "     but bootstrap.min.css set `[hidden] { display: none !important; }`\n",
              "     so we also need the `!important` here to be able to override the\n",
              "     default hidden behavior on the sphinx rendered scikit-learn.org.\n",
              "     See: https://github.com/scikit-learn/scikit-learn/issues/21755 */\n",
              "  display: inline-block !important;\n",
              "  position: relative;\n",
              "}\n",
              "\n",
              "#sk-container-id-1 div.sk-text-repr-fallback {\n",
              "  display: none;\n",
              "}\n",
              "\n",
              "div.sk-parallel-item,\n",
              "div.sk-serial,\n",
              "div.sk-item {\n",
              "  /* draw centered vertical line to link estimators */\n",
              "  background-image: linear-gradient(var(--sklearn-color-text-on-default-background), var(--sklearn-color-text-on-default-background));\n",
              "  background-size: 2px 100%;\n",
              "  background-repeat: no-repeat;\n",
              "  background-position: center center;\n",
              "}\n",
              "\n",
              "/* Parallel-specific style estimator block */\n",
              "\n",
              "#sk-container-id-1 div.sk-parallel-item::after {\n",
              "  content: \"\";\n",
              "  width: 100%;\n",
              "  border-bottom: 2px solid var(--sklearn-color-text-on-default-background);\n",
              "  flex-grow: 1;\n",
              "}\n",
              "\n",
              "#sk-container-id-1 div.sk-parallel {\n",
              "  display: flex;\n",
              "  align-items: stretch;\n",
              "  justify-content: center;\n",
              "  background-color: var(--sklearn-color-background);\n",
              "  position: relative;\n",
              "}\n",
              "\n",
              "#sk-container-id-1 div.sk-parallel-item {\n",
              "  display: flex;\n",
              "  flex-direction: column;\n",
              "}\n",
              "\n",
              "#sk-container-id-1 div.sk-parallel-item:first-child::after {\n",
              "  align-self: flex-end;\n",
              "  width: 50%;\n",
              "}\n",
              "\n",
              "#sk-container-id-1 div.sk-parallel-item:last-child::after {\n",
              "  align-self: flex-start;\n",
              "  width: 50%;\n",
              "}\n",
              "\n",
              "#sk-container-id-1 div.sk-parallel-item:only-child::after {\n",
              "  width: 0;\n",
              "}\n",
              "\n",
              "/* Serial-specific style estimator block */\n",
              "\n",
              "#sk-container-id-1 div.sk-serial {\n",
              "  display: flex;\n",
              "  flex-direction: column;\n",
              "  align-items: center;\n",
              "  background-color: var(--sklearn-color-background);\n",
              "  padding-right: 1em;\n",
              "  padding-left: 1em;\n",
              "}\n",
              "\n",
              "\n",
              "/* Toggleable style: style used for estimator/Pipeline/ColumnTransformer box that is\n",
              "clickable and can be expanded/collapsed.\n",
              "- Pipeline and ColumnTransformer use this feature and define the default style\n",
              "- Estimators will overwrite some part of the style using the `sk-estimator` class\n",
              "*/\n",
              "\n",
              "/* Pipeline and ColumnTransformer style (default) */\n",
              "\n",
              "#sk-container-id-1 div.sk-toggleable {\n",
              "  /* Default theme specific background. It is overwritten whether we have a\n",
              "  specific estimator or a Pipeline/ColumnTransformer */\n",
              "  background-color: var(--sklearn-color-background);\n",
              "}\n",
              "\n",
              "/* Toggleable label */\n",
              "#sk-container-id-1 label.sk-toggleable__label {\n",
              "  cursor: pointer;\n",
              "  display: block;\n",
              "  width: 100%;\n",
              "  margin-bottom: 0;\n",
              "  padding: 0.5em;\n",
              "  box-sizing: border-box;\n",
              "  text-align: center;\n",
              "}\n",
              "\n",
              "#sk-container-id-1 label.sk-toggleable__label-arrow:before {\n",
              "  /* Arrow on the left of the label */\n",
              "  content: \"▸\";\n",
              "  float: left;\n",
              "  margin-right: 0.25em;\n",
              "  color: var(--sklearn-color-icon);\n",
              "}\n",
              "\n",
              "#sk-container-id-1 label.sk-toggleable__label-arrow:hover:before {\n",
              "  color: var(--sklearn-color-text);\n",
              "}\n",
              "\n",
              "/* Toggleable content - dropdown */\n",
              "\n",
              "#sk-container-id-1 div.sk-toggleable__content {\n",
              "  max-height: 0;\n",
              "  max-width: 0;\n",
              "  overflow: hidden;\n",
              "  text-align: left;\n",
              "  /* unfitted */\n",
              "  background-color: var(--sklearn-color-unfitted-level-0);\n",
              "}\n",
              "\n",
              "#sk-container-id-1 div.sk-toggleable__content.fitted {\n",
              "  /* fitted */\n",
              "  background-color: var(--sklearn-color-fitted-level-0);\n",
              "}\n",
              "\n",
              "#sk-container-id-1 div.sk-toggleable__content pre {\n",
              "  margin: 0.2em;\n",
              "  border-radius: 0.25em;\n",
              "  color: var(--sklearn-color-text);\n",
              "  /* unfitted */\n",
              "  background-color: var(--sklearn-color-unfitted-level-0);\n",
              "}\n",
              "\n",
              "#sk-container-id-1 div.sk-toggleable__content.fitted pre {\n",
              "  /* unfitted */\n",
              "  background-color: var(--sklearn-color-fitted-level-0);\n",
              "}\n",
              "\n",
              "#sk-container-id-1 input.sk-toggleable__control:checked~div.sk-toggleable__content {\n",
              "  /* Expand drop-down */\n",
              "  max-height: 200px;\n",
              "  max-width: 100%;\n",
              "  overflow: auto;\n",
              "}\n",
              "\n",
              "#sk-container-id-1 input.sk-toggleable__control:checked~label.sk-toggleable__label-arrow:before {\n",
              "  content: \"▾\";\n",
              "}\n",
              "\n",
              "/* Pipeline/ColumnTransformer-specific style */\n",
              "\n",
              "#sk-container-id-1 div.sk-label input.sk-toggleable__control:checked~label.sk-toggleable__label {\n",
              "  color: var(--sklearn-color-text);\n",
              "  background-color: var(--sklearn-color-unfitted-level-2);\n",
              "}\n",
              "\n",
              "#sk-container-id-1 div.sk-label.fitted input.sk-toggleable__control:checked~label.sk-toggleable__label {\n",
              "  background-color: var(--sklearn-color-fitted-level-2);\n",
              "}\n",
              "\n",
              "/* Estimator-specific style */\n",
              "\n",
              "/* Colorize estimator box */\n",
              "#sk-container-id-1 div.sk-estimator input.sk-toggleable__control:checked~label.sk-toggleable__label {\n",
              "  /* unfitted */\n",
              "  background-color: var(--sklearn-color-unfitted-level-2);\n",
              "}\n",
              "\n",
              "#sk-container-id-1 div.sk-estimator.fitted input.sk-toggleable__control:checked~label.sk-toggleable__label {\n",
              "  /* fitted */\n",
              "  background-color: var(--sklearn-color-fitted-level-2);\n",
              "}\n",
              "\n",
              "#sk-container-id-1 div.sk-label label.sk-toggleable__label,\n",
              "#sk-container-id-1 div.sk-label label {\n",
              "  /* The background is the default theme color */\n",
              "  color: var(--sklearn-color-text-on-default-background);\n",
              "}\n",
              "\n",
              "/* On hover, darken the color of the background */\n",
              "#sk-container-id-1 div.sk-label:hover label.sk-toggleable__label {\n",
              "  color: var(--sklearn-color-text);\n",
              "  background-color: var(--sklearn-color-unfitted-level-2);\n",
              "}\n",
              "\n",
              "/* Label box, darken color on hover, fitted */\n",
              "#sk-container-id-1 div.sk-label.fitted:hover label.sk-toggleable__label.fitted {\n",
              "  color: var(--sklearn-color-text);\n",
              "  background-color: var(--sklearn-color-fitted-level-2);\n",
              "}\n",
              "\n",
              "/* Estimator label */\n",
              "\n",
              "#sk-container-id-1 div.sk-label label {\n",
              "  font-family: monospace;\n",
              "  font-weight: bold;\n",
              "  display: inline-block;\n",
              "  line-height: 1.2em;\n",
              "}\n",
              "\n",
              "#sk-container-id-1 div.sk-label-container {\n",
              "  text-align: center;\n",
              "}\n",
              "\n",
              "/* Estimator-specific */\n",
              "#sk-container-id-1 div.sk-estimator {\n",
              "  font-family: monospace;\n",
              "  border: 1px dotted var(--sklearn-color-border-box);\n",
              "  border-radius: 0.25em;\n",
              "  box-sizing: border-box;\n",
              "  margin-bottom: 0.5em;\n",
              "  /* unfitted */\n",
              "  background-color: var(--sklearn-color-unfitted-level-0);\n",
              "}\n",
              "\n",
              "#sk-container-id-1 div.sk-estimator.fitted {\n",
              "  /* fitted */\n",
              "  background-color: var(--sklearn-color-fitted-level-0);\n",
              "}\n",
              "\n",
              "/* on hover */\n",
              "#sk-container-id-1 div.sk-estimator:hover {\n",
              "  /* unfitted */\n",
              "  background-color: var(--sklearn-color-unfitted-level-2);\n",
              "}\n",
              "\n",
              "#sk-container-id-1 div.sk-estimator.fitted:hover {\n",
              "  /* fitted */\n",
              "  background-color: var(--sklearn-color-fitted-level-2);\n",
              "}\n",
              "\n",
              "/* Specification for estimator info (e.g. \"i\" and \"?\") */\n",
              "\n",
              "/* Common style for \"i\" and \"?\" */\n",
              "\n",
              ".sk-estimator-doc-link,\n",
              "a:link.sk-estimator-doc-link,\n",
              "a:visited.sk-estimator-doc-link {\n",
              "  float: right;\n",
              "  font-size: smaller;\n",
              "  line-height: 1em;\n",
              "  font-family: monospace;\n",
              "  background-color: var(--sklearn-color-background);\n",
              "  border-radius: 1em;\n",
              "  height: 1em;\n",
              "  width: 1em;\n",
              "  text-decoration: none !important;\n",
              "  margin-left: 1ex;\n",
              "  /* unfitted */\n",
              "  border: var(--sklearn-color-unfitted-level-1) 1pt solid;\n",
              "  color: var(--sklearn-color-unfitted-level-1);\n",
              "}\n",
              "\n",
              ".sk-estimator-doc-link.fitted,\n",
              "a:link.sk-estimator-doc-link.fitted,\n",
              "a:visited.sk-estimator-doc-link.fitted {\n",
              "  /* fitted */\n",
              "  border: var(--sklearn-color-fitted-level-1) 1pt solid;\n",
              "  color: var(--sklearn-color-fitted-level-1);\n",
              "}\n",
              "\n",
              "/* On hover */\n",
              "div.sk-estimator:hover .sk-estimator-doc-link:hover,\n",
              ".sk-estimator-doc-link:hover,\n",
              "div.sk-label-container:hover .sk-estimator-doc-link:hover,\n",
              ".sk-estimator-doc-link:hover {\n",
              "  /* unfitted */\n",
              "  background-color: var(--sklearn-color-unfitted-level-3);\n",
              "  color: var(--sklearn-color-background);\n",
              "  text-decoration: none;\n",
              "}\n",
              "\n",
              "div.sk-estimator.fitted:hover .sk-estimator-doc-link.fitted:hover,\n",
              ".sk-estimator-doc-link.fitted:hover,\n",
              "div.sk-label-container:hover .sk-estimator-doc-link.fitted:hover,\n",
              ".sk-estimator-doc-link.fitted:hover {\n",
              "  /* fitted */\n",
              "  background-color: var(--sklearn-color-fitted-level-3);\n",
              "  color: var(--sklearn-color-background);\n",
              "  text-decoration: none;\n",
              "}\n",
              "\n",
              "/* Span, style for the box shown on hovering the info icon */\n",
              ".sk-estimator-doc-link span {\n",
              "  display: none;\n",
              "  z-index: 9999;\n",
              "  position: relative;\n",
              "  font-weight: normal;\n",
              "  right: .2ex;\n",
              "  padding: .5ex;\n",
              "  margin: .5ex;\n",
              "  width: min-content;\n",
              "  min-width: 20ex;\n",
              "  max-width: 50ex;\n",
              "  color: var(--sklearn-color-text);\n",
              "  box-shadow: 2pt 2pt 4pt #999;\n",
              "  /* unfitted */\n",
              "  background: var(--sklearn-color-unfitted-level-0);\n",
              "  border: .5pt solid var(--sklearn-color-unfitted-level-3);\n",
              "}\n",
              "\n",
              ".sk-estimator-doc-link.fitted span {\n",
              "  /* fitted */\n",
              "  background: var(--sklearn-color-fitted-level-0);\n",
              "  border: var(--sklearn-color-fitted-level-3);\n",
              "}\n",
              "\n",
              ".sk-estimator-doc-link:hover span {\n",
              "  display: block;\n",
              "}\n",
              "\n",
              "/* \"?\"-specific style due to the `<a>` HTML tag */\n",
              "\n",
              "#sk-container-id-1 a.estimator_doc_link {\n",
              "  float: right;\n",
              "  font-size: 1rem;\n",
              "  line-height: 1em;\n",
              "  font-family: monospace;\n",
              "  background-color: var(--sklearn-color-background);\n",
              "  border-radius: 1rem;\n",
              "  height: 1rem;\n",
              "  width: 1rem;\n",
              "  text-decoration: none;\n",
              "  /* unfitted */\n",
              "  color: var(--sklearn-color-unfitted-level-1);\n",
              "  border: var(--sklearn-color-unfitted-level-1) 1pt solid;\n",
              "}\n",
              "\n",
              "#sk-container-id-1 a.estimator_doc_link.fitted {\n",
              "  /* fitted */\n",
              "  border: var(--sklearn-color-fitted-level-1) 1pt solid;\n",
              "  color: var(--sklearn-color-fitted-level-1);\n",
              "}\n",
              "\n",
              "/* On hover */\n",
              "#sk-container-id-1 a.estimator_doc_link:hover {\n",
              "  /* unfitted */\n",
              "  background-color: var(--sklearn-color-unfitted-level-3);\n",
              "  color: var(--sklearn-color-background);\n",
              "  text-decoration: none;\n",
              "}\n",
              "\n",
              "#sk-container-id-1 a.estimator_doc_link.fitted:hover {\n",
              "  /* fitted */\n",
              "  background-color: var(--sklearn-color-fitted-level-3);\n",
              "}\n",
              "</style><div id=\"sk-container-id-1\" class=\"sk-top-container\"><div class=\"sk-text-repr-fallback\"><pre>Ridge()</pre><b>In a Jupyter environment, please rerun this cell to show the HTML representation or trust the notebook. <br />On GitHub, the HTML representation is unable to render, please try loading this page with nbviewer.org.</b></div><div class=\"sk-container\" hidden><div class=\"sk-item\"><div class=\"sk-estimator fitted sk-toggleable\"><input class=\"sk-toggleable__control sk-hidden--visually\" id=\"sk-estimator-id-1\" type=\"checkbox\" checked><label for=\"sk-estimator-id-1\" class=\"sk-toggleable__label fitted sk-toggleable__label-arrow fitted\">&nbsp;&nbsp;Ridge<a class=\"sk-estimator-doc-link fitted\" rel=\"noreferrer\" target=\"_blank\" href=\"https://scikit-learn.org/1.5/modules/generated/sklearn.linear_model.Ridge.html\">?<span>Documentation for Ridge</span></a><span class=\"sk-estimator-doc-link fitted\">i<span>Fitted</span></span></label><div class=\"sk-toggleable__content fitted\"><pre>Ridge()</pre></div> </div></div></div></div>"
            ]
          },
          "metadata": {},
          "execution_count": 30
        }
      ]
    },
    {
      "cell_type": "code",
      "source": [
        "# Оценка модели на обучающих данных с использованием кросс-валидации\n",
        "# Используется отрицательное значение MAE, поэтому берем модуль результата\n",
        "mae_cv = -cross_val_score(ridge, X_train_poly, y_train, cv=5, scoring='neg_mean_absolute_error').mean()\n",
        "print(f'Средняя абсолютная ошибка на кросс-валидации: {mae_cv:.2f}')"
      ],
      "metadata": {
        "colab": {
          "base_uri": "https://localhost:8080/"
        },
        "id": "FcVFpY7W8qq-",
        "outputId": "6b4f95dd-b668-4122-87b8-d42fdb7bf8aa"
      },
      "id": "FcVFpY7W8qq-",
      "execution_count": null,
      "outputs": [
        {
          "output_type": "stream",
          "name": "stdout",
          "text": [
            "Средняя абсолютная ошибка на кросс-валидации: 78.80\n"
          ]
        }
      ]
    },
    {
      "cell_type": "code",
      "source": [
        "# Прогнозирование на тестовых данных\n",
        "y_pred = ridge.predict(X_test_poly)\n",
        "\n",
        "# Расчет MAE на тестовой выборке\n",
        "mae_test = mean_absolute_error(y_test, y_pred)\n",
        "print(f'Средняя абсолютная ошибка на тестовой выборке: {mae_test:.2f}')"
      ],
      "metadata": {
        "colab": {
          "base_uri": "https://localhost:8080/"
        },
        "id": "xOrWOXYA8sgN",
        "outputId": "749596f1-d52d-40ad-c9cd-0a1144c8b5d6"
      },
      "id": "xOrWOXYA8sgN",
      "execution_count": null,
      "outputs": [
        {
          "output_type": "stream",
          "name": "stdout",
          "text": [
            "Средняя абсолютная ошибка на тестовой выборке: 61.91\n"
          ]
        }
      ]
    },
    {
      "cell_type": "code",
      "source": [],
      "metadata": {
        "id": "KxP3YDOw804u"
      },
      "id": "KxP3YDOw804u",
      "execution_count": null,
      "outputs": []
    },
    {
      "cell_type": "markdown",
      "id": "0c25c3aa",
      "metadata": {
        "id": "0c25c3aa"
      },
      "source": [
        "### Задание 5.4. (1 балл)\n",
        "\n",
        "Настало время анализа построенной модели. Посмотрите на коэффициенты и сравните их знаки со значениями выборочных корреляций между целевым признаком и факторами, которые вы нашли ранее.\n",
        "\n",
        "Дайте развёрнутые ответы на следующие вопросы:\n",
        "\n",
        "* Есть ли в вашей модели фактор, при котором коэффициент в модели линейной регрессии противоречит соответствующему коэффициенту корреляции? Например, корреляция говорит, что зависимость между фактором и целевой переменной прямая, а модель говорит обратное. Если таких факторов несколько, укажите их все.\n",
        "* Как вы считаете, с чем связано полученное противоречие результатов?"
      ]
    },
    {
      "cell_type": "markdown",
      "source": [
        "**Критерии оценивания:**\n",
        "\n",
        "- Задание выполнено верно, даны корректные развёрнутые ответы на все поставленные в задании вопросы (**1 балл**).\n",
        "\n",
        "- Задание выполнено неверно, даны некорректные ответы на один или несколько поставленных в задании вопросов (**0 баллов**)."
      ],
      "metadata": {
        "id": "ngJ3UdYb6Ll6"
      },
      "id": "ngJ3UdYb6Ll6"
    },
    {
      "cell_type": "code",
      "source": [
        "import pandas as pd\n",
        "import numpy as np\n",
        "from sklearn.linear_model import LinearRegression\n",
        "import statsmodels.api as sm  # Импортируем statsmodels.api с псевдонимом sm\n",
        "\n"
      ],
      "metadata": {
        "id": "v-zIxRPY9wK7"
      },
      "id": "v-zIxRPY9wK7",
      "execution_count": null,
      "outputs": []
    },
    {
      "cell_type": "code",
      "source": [
        "# Загрузка данных\n",
        "data = pd.read_csv('sample_data/unconv.csv')\n",
        "\n",
        "# Определение признаков и целевой переменной\n",
        "X = data.drop(columns=['Well', 'Prod'])\n",
        "y = data['Prod']\n"
      ],
      "metadata": {
        "id": "H4PeoGN1Z1DP"
      },
      "id": "H4PeoGN1Z1DP",
      "execution_count": null,
      "outputs": []
    },
    {
      "cell_type": "code",
      "source": [
        "\n",
        "# Добавление константного столбца для учета свободного члена в модели\n",
        "X = sm.add_constant(X)\n",
        "\n"
      ],
      "metadata": {
        "id": "jfXnetcvZ6pY"
      },
      "id": "jfXnetcvZ6pY",
      "execution_count": null,
      "outputs": []
    },
    {
      "cell_type": "code",
      "source": [
        "# Обучение модели линейной регрессии\n",
        "model = sm.OLS(y, X).fit()\n",
        "\n",
        "# Получение коэффициентов модели\n",
        "coefficients = model.params\n",
        "\n",
        "# Расчет коэффициентов корреляции Пирсона между признаками и целевой переменной\n",
        "correlations = data.corr()['Prod'].drop('Prod')\n",
        "\n",
        "# Сравнение знаков коэффициентов регрессии и корреляции\n",
        "comparison = pd.DataFrame({\n",
        "    'Коэффициент регрессии': coefficients.drop('const'),\n",
        "    'Коэффициент корреляции': correlations,\n",
        "    'Знак регрессии': np.sign(coefficients.drop('const')),\n",
        "    'Знак корреляции': np.sign(correlations)\n",
        "})\n",
        "\n",
        "# Определение признаков с противоположными знаками коэффициентов\n",
        "comparison['Противоречие'] = comparison['Знак регрессии'] != comparison['Знак корреляции']\n",
        "\n",
        "print(comparison)\n"
      ],
      "metadata": {
        "colab": {
          "base_uri": "https://localhost:8080/"
        },
        "id": "NdhDRgIvZ9w4",
        "outputId": "bf05ddac-4e9c-46e0-8a6d-ff4a4f40446c"
      },
      "id": "NdhDRgIvZ9w4",
      "execution_count": null,
      "outputs": [
        {
          "output_type": "stream",
          "name": "stdout",
          "text": [
            "         Коэффициент регрессии  Коэффициент корреляции  Знак регрессии  \\\n",
            "AI                 -363.736086               -0.390835            -1.0   \n",
            "Brittle              24.996670                0.237155             1.0   \n",
            "Perm                116.228033                0.727426             1.0   \n",
            "Por                 230.295810                0.861910             1.0   \n",
            "TOC                 -77.436742                0.654445            -1.0   \n",
            "VR                  783.187413                0.323182             1.0   \n",
            "Well                       NaN                0.026817             NaN   \n",
            "\n",
            "         Знак корреляции  Противоречие  \n",
            "AI                  -1.0         False  \n",
            "Brittle              1.0         False  \n",
            "Perm                 1.0         False  \n",
            "Por                  1.0         False  \n",
            "TOC                  1.0          True  \n",
            "VR                   1.0         False  \n",
            "Well                 1.0          True  \n"
          ]
        }
      ]
    },
    {
      "cell_type": "code",
      "source": [],
      "metadata": {
        "id": "yGC7Pu83aQyq"
      },
      "id": "yGC7Pu83aQyq",
      "execution_count": null,
      "outputs": []
    },
    {
      "cell_type": "markdown",
      "source": [
        "# **Комментарии к решению**\n",
        "В предоставленной таблице видно, что признаки **TOC** и **Well** имеют противоречие между знаками коэффициентов регрессии и корреляции:\n",
        "\n",
        "Для **TOC** коэффициент регрессии отрицательный, а корреляция положительная.\n",
        "Для **Well** также возникает противоречие (хотя стоит проверить, нужен ли этот признак, так как он может быть идентификатором, а не информативным фактором).\n",
        "**Возможные причины**\n",
        "\n",
        "*   **Мультиколлинеарность:** TOC может быть сильно скоррелирован с другими признаками, из-за чего его влияние искажается.\n",
        "*   **Особенности данных:** Признак Well, вероятно, не является фактором влияния на добычу (скорее идентификатор), и его стоит исключить из модели.\n",
        "*   **Регуляризация:** Для улучшения интерпретации модели можно\n",
        "применить методы регуляризации (например, Ridge или Lasso) - метод Ridge уже применялся ранее."
      ],
      "metadata": {
        "id": "qeowwIp99yBf"
      },
      "id": "qeowwIp99yBf"
    },
    {
      "cell_type": "markdown",
      "id": "9cea9195",
      "metadata": {
        "id": "9cea9195"
      },
      "source": [
        "### Задание 5.5. (2 балла)\n",
        "\n",
        "* Исключите из данных сильно коррелированные между собой факторы. Под сильной корреляцией в данной задаче будем понимать значения выше `0.7`.\n",
        "\n",
        "Выбирая, какой из коррелированных факторов оставить, руководствуйтесь коэффициентом корреляции с целевой переменной: оставляйте тот фактор, который больше всего коррелирует с целевой переменной (объёмом добычи газа).\n",
        "\n",
        "* Также исключите из данных факторы, для которых корреляция с целевой переменной меньше `0.05`.\n",
        "\n",
        "Постройте модель линейной регрессии на обновлённых после удаления факторов данных по методу наименьших квадратов. Для этого используйте матричную формулу и библиотеку numpy. Выведите значение полученных коэффициентов, округлённых до целого.\n",
        "\n",
        "Сделайте прогноз для всего обучающего набора данных и рассчитайте выбранную вами ранее метрику (или метрики).\n",
        "\n",
        "Дайте подробные ответы на следующие вопросы:\n",
        "\n",
        "* Приведите интерпретацию нескольких полученных коэффициентов (двух или трёх). Сравните их значения с полученными ранее.\n",
        "* Приведите интерпретацию полученных значений метрик. Сравните их значения с полученными ранее.\n",
        "* Удалось ли вам побороть противоречие коэффициентов линейной регрессии и коэффициентов корреляции?"
      ]
    },
    {
      "cell_type": "markdown",
      "source": [
        "**Критерии оценивания:**\n",
        "- Задание выполнено верно, учтены все условия (**2 балла**):\n",
        "    * отобраны верные факторы;\n",
        "    * на основе отобранных факторов построена модель линейной регрессии с помощью матричной формулы МНК и найдены параметры модели, соответствующие каждому из факторов;\n",
        "    * построен прогноз для всего обучающего набора данных и рассчитано значение метрики (метрика должна быть выбрана корректно);\n",
        "    * даны ответы на все поставленные в задании вопросы.\n",
        "\n",
        "- Задание выполнено верно, но не учтено одно из условий (**1 балл**).\n",
        "- Задание выполнено верно, не учтено несколько из условий (**0 баллов**)."
      ],
      "metadata": {
        "id": "vlUYVjJP6oXN"
      },
      "id": "vlUYVjJP6oXN"
    },
    {
      "cell_type": "code",
      "source": [
        "import pandas as pd\n",
        "import numpy as np\n",
        "\n",
        "# Загрузка данных\n",
        "data = pd.read_csv('sample_data/unconv.csv')\n",
        "\n",
        "# Целевая переменная\n",
        "y = data['Prod']\n",
        "\n",
        "# Рассчет корреляционной матрицы\n",
        "corr_matrix = data.drop(columns=['Well', 'Prod']).corr()\n",
        "\n",
        "# Удаление сильно коррелированных факторов (корреляция > 0.7)\n",
        "high_corr_features = set()\n",
        "for col in corr_matrix.columns:\n",
        "    for row in corr_matrix.index:\n",
        "        if col != row and abs(corr_matrix.loc[row, col]) > 0.7:\n",
        "            # Сравнить корреляцию с целевой переменной и выбрать более значимый\n",
        "            if abs(data[row].corr(y)) > abs(data[col].corr(y)):\n",
        "                high_corr_features.add(col)\n",
        "            else:\n",
        "                high_corr_features.add(row)\n",
        "\n",
        "# Удаление факторов с корреляцией < 0.05 с целевой переменной\n",
        "low_corr_features = set(\n",
        "    [col for col in data.drop(columns=['Well', 'Prod']).columns if abs(data[col].corr(y)) < 0.05]\n",
        ")\n",
        "\n",
        "# Объединение всех исключаемых факторов\n",
        "features_to_drop = high_corr_features.union(low_corr_features)\n",
        "print(f\"Удаленные факторы: {features_to_drop}\")\n",
        "\n",
        "# Формирование новой матрицы признаков\n",
        "X = data.drop(columns=['Well', 'Prod'] + list(features_to_drop))\n",
        "X = np.hstack((np.ones((X.shape[0], 1)), X.values))  # Добавление константного столбца\n",
        "\n",
        "# Построение модели линейной регрессии\n",
        "X_transpose = X.T\n",
        "beta = np.linalg.inv(X_transpose @ X) @ X_transpose @ y\n",
        "print(f\"Коэффициенты модели: {np.round(beta)}\")\n",
        "\n",
        "# Прогнозирование\n",
        "y_pred = X @ beta\n",
        "\n",
        "# Расчет метрик\n",
        "from sklearn.metrics import mean_absolute_error, r2_score\n",
        "\n",
        "mae = mean_absolute_error(y, y_pred)\n",
        "r2 = r2_score(y, y_pred)\n",
        "print(f\"Средняя абсолютная ошибка (MAE): {mae:.2f}\")\n",
        "print(f\"Коэффициент детерминации (R²): {r2:.4f}\")"
      ],
      "metadata": {
        "id": "5d5ZJ0lX_UHe",
        "colab": {
          "base_uri": "https://localhost:8080/"
        },
        "outputId": "9bad335c-63a9-46d6-cd95-801b18014b1c"
      },
      "id": "5d5ZJ0lX_UHe",
      "execution_count": null,
      "outputs": [
        {
          "output_type": "stream",
          "name": "stdout",
          "text": [
            "Удаленные факторы: {'TOC', 'Perm'}\n",
            "Коэффициенты модели: [-1835.   293.  -200.    28.   517.]\n",
            "Средняя абсолютная ошибка (MAE): 171.43\n",
            "Коэффициент детерминации (R²): 0.9452\n"
          ]
        }
      ]
    },
    {
      "cell_type": "markdown",
      "source": [
        "\n",
        "# Выводы по обновлённой модели линейной регрессии:\n",
        "**Удалённые факторы:**\n",
        "\n",
        "Факторы TOC и Perm были удалены из данных.\n",
        "\n",
        "*   TOC был удалён из-за противоречия между корреляцией и коэффициентом регрессии, а также сильной корреляции с другими факторами.\n",
        "*   Perm был удалён из-за высокой корреляции с другими признаками (например, Por) и меньшей корреляции с целевой переменной.\n",
        "\n",
        "**Интерпретация коэффициентов:**\n",
        "\n",
        "*   Свободный член модели (-1835): Базовый уровень выработки газа при всех остальных факторах равных нулю.\n",
        "*   Por (293): При увеличении пористости на 1%, выработка газа увеличивается на 293 млн куб. футов в день.\n",
        "*   AI (-200): Увеличение акустического импеданса на 1 единицу снижает выработку газа на 200 млн куб. футов в день.\n",
        "*   Brittle (28): Увеличение коэффициента хрупкости на 1% * увеличивает добычу газа на 28 млн куб. футов в день.\n",
        "*   VR (517): Коэффициент отражения витринита оказывает наибольшее влияние: увеличение на 1% приводит к росту добычи на 517 млн куб. футов в день.\n",
        "\n",
        "**Метрики модели:**\n",
        "\n",
        "*  Средняя абсолютная ошибка (MAE): 171.43 млн куб. футов. Это значение немного выше, чем у исходной модели (153.62), что указывает на снижение точности.\n",
        "*  Коэффициент детерминации (R²): 0.9452. Это значение ниже, чем у исходной модели (0.9599), что свидетельствует о небольшом снижении объяснённой вариации данных.\n",
        "\n",
        "**Противоречие коэффициентов:**\n",
        "\n",
        "*  В новой модели удалось устранить противоречие между знаками коэффициентов регрессии и корреляции. Это подтверждает, что удаление факторов с высокой корреляцией и применение более качественного отбора признаков помогает улучшить интерпретацию модели.\n",
        "\n",
        "**Сравнение с предыдущей моделью:**\n",
        "\n",
        "*  Точность модели (по MAE) немного снизилась, но интерпретация коэффициентов улучшилась за счёт устранения противоречий.\n",
        "*  Новая модель более устойчива к мультиколлинеарности, что делает её лучше подходящей для объяснения факторов, влияющих на добычу газа.\n",
        "\n",
        "**Итог:**\n",
        "*  Новая модель линейной регрессии является более интерпретируемой, но имеет небольшое снижение точности.\n",
        "*  Для дальнейшего улучшения можно рассмотреть регуляризацию (например, Ridge или Lasso), чтобы учесть возможные оставшиеся проблемы с мультиколлинеарностью."
      ],
      "metadata": {
        "id": "KxbYvMDo_WLe"
      },
      "id": "KxbYvMDo_WLe"
    },
    {
      "cell_type": "markdown",
      "id": "7d50db12",
      "metadata": {
        "id": "7d50db12"
      },
      "source": [
        "### Задание 5.6. (1 балл)\n",
        "\n",
        "Наконец, давайте построим модель линейной регрессии из библиотеки `scikit-learn (sklearn)` и сравним результаты её работы с теми, что нам удалось получить вручную.\n",
        "\n",
        "Постройте модель линейной регрессии на обновлённых после удаления факторов данных по методу наименьших квадратов. Для этого воспользуйтесь классом `LinearRegression` из библиотеки `sklearn`. Выведите значения полученных коэффициентов, округлённые до целого.\n",
        "\n",
        "Сделайте прогноз для всего обучающего набора данных и рассчитайте значение выбранной вами метрики (или метрик).\n",
        "\n",
        "Сравните результаты библиотечной реализации с тем, что вы получили ранее."
      ]
    },
    {
      "cell_type": "markdown",
      "source": [
        "**Критерии оценивания:**\n",
        "\n",
        "- Задание выполнено верно, учтены все условия (**1 балл**):\n",
        "    * на основе отобранных факторов построена модель линейной регрессии из библиотеки sklearn и найдены параметры модели, соответствующие каждому из факторов;\n",
        "    * построен прогноз для всего обучающего набора данных и рассчитано значение метрики (метрика должна быть выбрана корректно);\n",
        "    * приведён вывод о соответствии результатов, полученных вручную и с помощью библиотеки.\n",
        "- Задание выполнено неверно, не учтено одно или несколько условий (**0 баллов**)."
      ],
      "metadata": {
        "id": "emu5D3w278JP"
      },
      "id": "emu5D3w278JP"
    },
    {
      "cell_type": "code",
      "source": [
        "from sklearn.linear_model import LinearRegression\n",
        "from sklearn.metrics import mean_absolute_error, r2_score\n",
        "import numpy as np\n",
        "import pandas as pd\n",
        "\n",
        "# Загрузка данных\n",
        "data = pd.read_csv('sample_data/unconv.csv')\n",
        "\n",
        "# Исключаем удалённые факторы\n",
        "features_to_use = ['Por', 'AI', 'Brittle', 'VR']\n",
        "X = data[features_to_use]\n",
        "y = data['Prod']\n",
        "\n",
        "# Обучение модели линейной регрессии из sklearn\n",
        "model = LinearRegression()\n",
        "model.fit(X, y)\n",
        "\n",
        "# Получение коэффициентов\n",
        "coefficients = np.round(model.coef_)\n",
        "intercept = np.round(model.intercept_)\n",
        "print(f\"Свободный член (intercept): {intercept}\")\n",
        "print(f\"Коэффициенты модели: {coefficients}\")\n",
        "\n",
        "# Прогнозирование\n",
        "y_pred = model.predict(X)\n",
        "\n",
        "# Расчёт метрик\n",
        "mae_sklearn = mean_absolute_error(y, y_pred)\n",
        "r2_sklearn = r2_score(y, y_pred)\n",
        "print(f\"Средняя абсолютная ошибка (MAE): {mae_sklearn:.2f}\")\n",
        "print(f\"Коэффициент детерминации (R²): {r2_sklearn:.4f}\")"
      ],
      "metadata": {
        "id": "Gpdpfq59AKGu",
        "colab": {
          "base_uri": "https://localhost:8080/"
        },
        "outputId": "66f713e2-4d44-4d2c-a128-f789a82b314b"
      },
      "id": "Gpdpfq59AKGu",
      "execution_count": null,
      "outputs": [
        {
          "output_type": "stream",
          "name": "stdout",
          "text": [
            "Свободный член (intercept): -1835.0\n",
            "Коэффициенты модели: [ 293. -200.   28.  517.]\n",
            "Средняя абсолютная ошибка (MAE): 171.43\n",
            "Коэффициент детерминации (R²): 0.9452\n"
          ]
        }
      ]
    },
    {
      "cell_type": "markdown",
      "source": [
        "**Предварительные выводы подробно описаны выше **\n",
        "\n",
        "\n",
        "**Результаты построенной модели линейной регрессии с\n",
        "использованием библиотеки scikit-learn подтверждают ранее полученные результаты.**\n",
        "\n",
        "*  Свободный член (intercept): -1835.0\n",
        "*  Коэффициенты модели: [ 293. -200.   28.  517.]\n",
        "*  Средняя абсолютная ошибка (MAE): 171.43\n",
        "*  Коэффициент детерминации (R²): 0.9452\n",
        "\n",
        "\n",
        "**Интерпретация коэффициентов:**\n",
        "\n",
        "\n",
        "*  **Свободный член (intercept):**-1835.0\n",
        "Это значение отражает прогнозируемую добычу газа (в млн куб. футов), если все остальные факторы равны нулю. На практике это значение часто не имеет физического смысла, так как факторы не могут быть равны нулю, но оно необходимо для математической интерпретации модели.\n",
        "*  **Коэффициенты факторов:**\n",
        "\n",
        "*   Por (293): Увеличение пористости на 1% приводит к увеличению добычи газа на 293 млн куб. футов.\n",
        "*   AI (-200): Увеличение акустического импеданса на 1 единицу снижает добычу газа на 200 млн куб. футов.\n",
        "*   Brittle (28): Хрупкость оказывает относительно слабое положительное влияние: рост на 1% увеличивает добычу газа на 28 млн куб. футов.\n",
        "*   VR (517): Коэффициент отражения витринита оказывает самое значительное влияние: увеличение на 1% увеличивает добычу газа на 517 млн куб. футов.\n",
        "\n",
        "*  **Метрики модели:**\n",
        "\n",
        "1.   Средняя абсолютная ошибка (MAE): 171.43\n",
        "Это значение аналогично тому, что было получено вручную, и\n",
        "указывает, что в среднем прогнозы модели отличаются от реальных значений на 171.43 млн куб. футов. Это приемлемое отклонение, учитывая масштаб добычи.\n",
        "\n",
        "2.    Коэффициент детерминации (𝑅*2): 0.9452\n",
        "Модель объясняет 94.52% вариации в данных, что указывает на её хорошее качество.\n",
        "\n",
        "Сравнение с ручным расчётом:\n",
        "\n",
        "*   Коэффициенты модели: Полностью совпадают с результатами, полученными вручную, что подтверждает правильность как ручных вычислений, так и использования библиотеки scikit-learn.\n",
        "*   Метрики (MAE и 𝑅*2): Идентичны результатам ручного расчёта.\n",
        "\n",
        "Это говорит о том, что обе реализации модели (ручная и библиотечная) эквивалентны в данном случае.\n",
        "\n",
        "\n",
        "**Итог:**\n",
        "Модель, построенная с использованием scikit-learn, подтвердила результаты, полученные вручную.\n",
        "Выводы по интерпретации факторов остаются прежними.\n",
        "Противоречие между знаками коэффициентов регрессии и корреляции устранено, что подтверждает качество модели после удаления избыточных факторов."
      ],
      "metadata": {
        "id": "WT9cdHAbAMG7"
      },
      "id": "WT9cdHAbAMG7"
    },
    {
      "cell_type": "markdown",
      "id": "5346338e",
      "metadata": {
        "id": "5346338e"
      },
      "source": [
        "## Практика: полиномиальная регрессия и регуляризация"
      ]
    },
    {
      "cell_type": "markdown",
      "id": "aad9e3a6",
      "metadata": {
        "id": "aad9e3a6"
      },
      "source": [
        "Мы продолжаем работать над задачей от владельца компании «Газ-Таз-Ваз-Нефть» Василия.\n",
        "\n",
        "Ранее мы построили модель линейной регрессии, которая прогнозирует выработку газа на скважине. Для этого мы с помощью матрицы корреляций и рассуждений отобрали некоррелированные, значимые для предсказания признаки. **Далее мы будем использовать именно их (см. задание 5.5).**\n",
        "\n",
        "Мы хотим улучшить результат — уменьшить ошибку прогноза. Для этого мы воспользуемся моделью полиномиальной регрессии третьей степени. Однако теперь мы знаем, что полиномиальным моделям очень легко переобучиться под исходную выборку. Так как данных у нас не так много (всего 200 скважин), то для контроля качества модели мы будем использовать кросс-валидацию.\n",
        "\n",
        "Приступим! Выполните задания 8.1–8.5:\n"
      ]
    },
    {
      "cell_type": "code",
      "execution_count": null,
      "id": "18506d1b",
      "metadata": {
        "id": "18506d1b"
      },
      "outputs": [],
      "source": [
        "from sklearn.preprocessing import PolynomialFeatures, StandardScaler\n",
        "from sklearn.linear_model import LinearRegression, Lasso, Ridge, ElasticNet\n",
        "from sklearn.model_selection import GridSearchCV\n",
        "from sklearn.model_selection import cross_validate"
      ]
    },
    {
      "cell_type": "markdown",
      "id": "bfbfea8d",
      "metadata": {
        "id": "bfbfea8d"
      },
      "source": [
        "### Задание 8.1. (1 балл)\n",
        "\n",
        "Стандаризируйте признаки с помощью `StandartScaler` из библиотеки `sklearn`.\n",
        "\n",
        "Затем сгенерируйте полиномиальные признаки третьего порядка на факторах, которые вы выбрали для обучения моделей. Для этого воспользуйтесь генератором полиномов `PolynomialFeatures` из библиотеки `sklearn`. Параметр `include_bias` установите в значение `False`.\n",
        "\n",
        "Выведите на экран, сколько факторов у вас получилось после генерации полиномиальных признаков.\n",
        "\n",
        "**Важно:** стандартизацию необходимо произвести до генерации полиномиальных факторов!\n",
        "\n",
        "Обучите модель линейной регрессии из библиотеки `sklearn` (`LinearRegression`) на полученных полиномиальных факторах.\n",
        "\n",
        "Используя кросс-валидацию оцените среднее значение выбранной вами метрики (или метрик) на тренировочных и валидационных фолдах.\n",
        "\n",
        "Проинтерпретируйте полученные результаты."
      ]
    },
    {
      "cell_type": "markdown",
      "source": [
        "**Критерии оценивания:**\n",
        "\n",
        "- Задание выполнено верно, учтены все условия (**1 балл**):\n",
        "    * на основе отобранных факторов сгенерированы полиномиальные признаки третьего порядка;\n",
        "    * построена модель полиномиальной регрессии (линейной регрессии на полиномиальных признаках);\n",
        "    * с помощью кросс-валидации оценено среднее значение выбранной студентом метрики (или метрик) на тренировочных и валидационных фолдах (метрика должна быть выбрана корректно).\n",
        "- Задание выполнено неверно, не учтено одно или несколько из условий (**0 баллов**)."
      ],
      "metadata": {
        "id": "Y8oAhQkr8gV-"
      },
      "id": "Y8oAhQkr8gV-"
    },
    {
      "cell_type": "code",
      "source": [
        "from sklearn.preprocessing import PolynomialFeatures, StandardScaler\n",
        "from sklearn.linear_model import LinearRegression\n",
        "from sklearn.model_selection import cross_val_score\n",
        "import pandas as pd\n",
        "import numpy as np\n",
        "\n",
        "# Загрузка данных\n",
        "data = pd.read_csv('sample_data/unconv.csv')\n",
        "\n",
        "# Отобранные признаки и целевая переменная (результаты задания 5.5)\n",
        "features_to_use = ['Por', 'AI', 'Brittle', 'VR']\n",
        "X = data[features_to_use]\n",
        "y = data['Prod']\n",
        "\n",
        "# Стандартизация признаков\n",
        "scaler = StandardScaler()\n",
        "X_scaled = scaler.fit_transform(X)\n",
        "\n",
        "# Генерация полиномиальных признаков третьей степени\n",
        "poly = PolynomialFeatures(degree=3, include_bias=False)\n",
        "X_poly = poly.fit_transform(X_scaled)\n",
        "\n",
        "# Вывод количества признаков после генерации\n",
        "print(f\"Количество факторов после генерации полиномиальных признаков: {X_poly.shape[1]}\")\n",
        "\n",
        "# Модель линейной регрессии\n",
        "model = LinearRegression()\n",
        "\n",
        "# Кросс-валидация (используем метрику MAE)\n",
        "cv_scores = cross_val_score(model, X_poly, y, cv=5, scoring='neg_mean_absolute_error')\n",
        "\n",
        "# Среднее значение MAE\n",
        "mean_mae = -cv_scores.mean()\n",
        "print(f\"Среднее значение MAE на кросс-валидации: {mean_mae:.2f}\")"
      ],
      "metadata": {
        "id": "-ln3bx8NFNRw",
        "colab": {
          "base_uri": "https://localhost:8080/"
        },
        "outputId": "453d9ef1-7f31-4829-8548-ae383bd0a74e"
      },
      "id": "-ln3bx8NFNRw",
      "execution_count": null,
      "outputs": [
        {
          "output_type": "stream",
          "name": "stdout",
          "text": [
            "Количество факторов после генерации полиномиальных признаков: 34\n",
            "Среднее значение MAE на кросс-валидации: 110.47\n"
          ]
        }
      ]
    },
    {
      "cell_type": "markdown",
      "source": [
        "# Краткие выводы:\n",
        "\n",
        "**Количество факторов:** 34\n",
        "\n",
        "После генерации полиномиальных признаков третьей степени количество факторов значительно увеличилось (с 4 до 34). Это ожидаемо, так как при добавлении полиномов включаются все возможные комбинации степеней факторов до третьей.\n",
        "Средняя абсолютная ошибка (MAE): 110.47\n",
        "\n",
        "MAE уменьшилась по сравнению с предыдущей линейной моделью (171.43), что свидетельствует о более точных прогнозах. Это показывает, что полиномиальная регрессия лучше описывает зависимости в данных.\n",
        "Качество модели:\n",
        "\n",
        "Уменьшение MAE указывает на успешное улучшение модели, при этом использование кросс-валидации позволяет избежать переобучения.\n",
        "\n",
        "**Комментарии:**\n",
        "\n",
        "Полиномиальная регрессия даёт ощутимое улучшение качества модели, но увеличение числа факторов может привести к сложности интерпретации.\n",
        "\n",
        "На следующем шаге можно рассмотреть регуляризацию (например, Ridge или Lasso), чтобы дополнительно снизить риск переобучения."
      ],
      "metadata": {
        "id": "9DkuuLLtFPPy"
      },
      "id": "9DkuuLLtFPPy"
    },
    {
      "cell_type": "markdown",
      "id": "63d06013",
      "metadata": {
        "id": "63d06013"
      },
      "source": [
        "### Задание 8.2. (2 балла)\n",
        "\n",
        "Теперь попробуем воспользоваться линейной регрессией с регуляризацией. Для начала возьмём $L_1$-регуляризацию.\n",
        "\n",
        "Обучите модель `Lasso` из библиотеки `sklearn` на полученных полиномиальных факторах, предварительно стандартизировав факторы.\n",
        "\n",
        "Коэффициент регуляризации (`alpha`) подберите самостоятельно с помощью любого известного вам метода подбора гиперпаметров.\n",
        "\n",
        "Используя кросс-валидацию, оцените среднее значение выбранной вами метрики (или метрик) на тренировочных и валидационных фолдах.\n",
        "\n",
        "Проинтерпретируйте полученные результаты."
      ]
    },
    {
      "cell_type": "markdown",
      "source": [
        "**Критерии оценивания:**\n",
        "\n",
        "- Задание выполнено верно, учтены все условия (**2 балла**):\n",
        "    * правильно построена модель полиномиальной регрессии (линейной регрессии на полиномиальных признаках) с регуляризацией (Lasso), учтены условия необходимости масштабирования факторов для построения модели;\n",
        "    * приведён код для подбора параметра регуляризации (вручную или с помощью библиотечных инструментов);\n",
        "    * с помощью кросс-валидации оценено среднее значение выбранной студентом метрики (или метрик) на тренировочных и валидационных фолдах (метрика должна быть выбрана корректно).\n",
        "\n",
        "- Задание выполнено верно, но не учтено одно из условий (**1 балл**).\n",
        "- Задание выполнено неверно, не учтено несколько условий (**0 баллов**)."
      ],
      "metadata": {
        "id": "z24YUfuA9rUq"
      },
      "id": "z24YUfuA9rUq"
    },
    {
      "cell_type": "code",
      "source": [
        "from sklearn.preprocessing import PolynomialFeatures, StandardScaler\n",
        "from sklearn.linear_model import Lasso\n",
        "from sklearn.model_selection import GridSearchCV, cross_val_score\n",
        "import numpy as np\n",
        "import pandas as pd\n",
        "\n",
        "# Загрузка данных\n",
        "data = pd.read_csv('sample_data/unconv.csv')\n",
        "\n",
        "# Отобранные признаки и целевая переменная\n",
        "features_to_use = ['Por', 'AI', 'Brittle', 'VR']\n",
        "X = data[features_to_use]\n",
        "y = data['Prod']\n",
        "\n",
        "# Стандартизация признаков\n",
        "scaler = StandardScaler()\n",
        "X_scaled = scaler.fit_transform(X)\n",
        "\n",
        "# Генерация полиномиальных признаков\n",
        "poly = PolynomialFeatures(degree=3, include_bias=False)\n",
        "X_poly = poly.fit_transform(X_scaled)\n",
        "\n",
        "# Параметры для подбора коэффициента регуляризации alpha\n",
        "alpha_values = np.logspace(-4, 1, 50)\n",
        "\n",
        "# Инициализация модели Lasso\n",
        "lasso = Lasso(max_iter=10000)\n",
        "\n",
        "# Настройка GridSearchCV для подбора лучшего alpha\n",
        "param_grid = {'alpha': alpha_values}\n",
        "grid_search = GridSearchCV(lasso, param_grid, scoring='neg_mean_absolute_error', cv=5, n_jobs=-1)\n",
        "grid_search.fit(X_poly, y)\n",
        "\n",
        "# Лучший коэффициент регуляризации alpha\n",
        "best_alpha = grid_search.best_params_['alpha']\n",
        "print(f\"Лучший alpha (коэффициент регуляризации): {best_alpha}\")\n",
        "\n",
        "# Построение модели Lasso с найденным alpha\n",
        "lasso_best = Lasso(alpha=best_alpha, max_iter=10000)\n",
        "lasso_best.fit(X_poly, y)\n",
        "\n",
        "# Кросс-валидация с метрикой MAE\n",
        "cv_scores = cross_val_score(lasso_best, X_poly, y, cv=5, scoring='neg_mean_absolute_error')\n",
        "\n",
        "# Среднее значение MAE\n",
        "mean_mae_lasso = -cv_scores.mean()\n",
        "print(f\"Среднее значение MAE на кросс-валидации (Lasso): {mean_mae_lasso:.2f}\")\n",
        "\n",
        "# Количество ненулевых коэффициентов\n",
        "non_zero_coefficients = np.sum(lasso_best.coef_ != 0)\n",
        "print(f\"Количество ненулевых коэффициентов: {non_zero_coefficients}\")"
      ],
      "metadata": {
        "colab": {
          "base_uri": "https://localhost:8080/"
        },
        "id": "yyQqwl3OhIjf",
        "outputId": "f018fe53-1ba3-456e-cfa8-47a1355260e5"
      },
      "id": "yyQqwl3OhIjf",
      "execution_count": null,
      "outputs": [
        {
          "output_type": "stream",
          "name": "stdout",
          "text": [
            "Лучший alpha (коэффициент регуляризации): 4.941713361323838\n",
            "Среднее значение MAE на кросс-валидации (Lasso): 95.69\n",
            "Количество ненулевых коэффициентов: 19\n"
          ]
        }
      ]
    },
    {
      "cell_type": "markdown",
      "source": [
        "Этот код:\n",
        "\n",
        "*    Пересоздаёт полиномиальные признаки (X_poly) из оригинальных данных.\n",
        "*    Настраивает модель Lasso через GridSearchCV для подбора оптимального коэффициента регуляризации alpha.\n",
        "*    Выполняет кросс-валидацию для оценки MAE.\n",
        "*    Выводит количество ненулевых коэффициентов, что показывает, какие факторы были отфильтрованы регуляризацией.\n",
        "\n",
        "*   Лучший alpha (коэффициент регуляризации): 4.941713361323838\n",
        "*   Среднее значение MAE на кросс-валидации (Lasso): 95.69\n",
        "*   Количество ненулевых коэффициентов: 19"
      ],
      "metadata": {
        "id": "Se0OGR8UF2Td"
      },
      "id": "Se0OGR8UF2Td"
    },
    {
      "cell_type": "code",
      "source": [],
      "metadata": {
        "id": "VktJrLgFd5Iu"
      },
      "id": "VktJrLgFd5Iu",
      "execution_count": null,
      "outputs": []
    },
    {
      "cell_type": "markdown",
      "id": "2975ae60",
      "metadata": {
        "id": "2975ae60"
      },
      "source": [
        "### Задание 8.3. (2 балла)\n",
        "\n",
        "Проделаем то же самое с $L_2$-регуляризацией.\n",
        "\n",
        "Обучите модель `Ridge` из библиотеки `sklearn` на полученных полиномиальных факторах, предварительно стандартизировав факторы.\n",
        "\n",
        "Коэффициент регуляризации (`alpha`) подберите самостоятельно с помощью любого известного вам метода подбора гиперпаметров.\n",
        "\n",
        "Используя кросс-валидацию оцените среднее значение выбранной вами метрики (или метрик) на тренировочных и валидационных фолдах.\n",
        "\n",
        "Проинтерпретируйте полученные результаты."
      ]
    },
    {
      "cell_type": "code",
      "source": [
        "from sklearn.linear_model import Ridge\n",
        "\n",
        "# Параметры для подбора коэффициента регуляризации alpha\n",
        "alpha_values = np.logspace(-4, 1, 50)\n",
        "\n",
        "# Инициализация модели Ridge\n",
        "ridge = Ridge(max_iter=10000)\n",
        "\n",
        "# Настройка GridSearchCV для подбора лучшего alpha\n",
        "param_grid = {'alpha': alpha_values}\n",
        "grid_search = GridSearchCV(ridge, param_grid, scoring='neg_mean_absolute_error', cv=5, n_jobs=-1)\n",
        "grid_search.fit(X_poly, y)\n",
        "\n",
        "# Лучший коэффициент регуляризации alpha\n",
        "best_alpha_ridge = grid_search.best_params_['alpha']\n",
        "print(f\"Лучший alpha (коэффициент регуляризации) для Ridge: {best_alpha_ridge}\")\n",
        "\n",
        "# Построение модели Ridge с найденным alpha\n",
        "ridge_best = Ridge(alpha=best_alpha_ridge, max_iter=10000)\n",
        "ridge_best.fit(X_poly, y)\n",
        "\n",
        "# Кросс-валидация с метрикой MAE\n",
        "cv_scores_ridge = cross_val_score(ridge_best, X_poly, y, cv=5, scoring='neg_mean_absolute_error')\n",
        "\n",
        "# Среднее значение MAE\n",
        "mean_mae_ridge = -cv_scores_ridge.mean()\n",
        "print(f\"Среднее значение MAE на кросс-валидации (Ridge): {mean_mae_ridge:.2f}\")"
      ],
      "metadata": {
        "id": "UfPGyNsjGGS8",
        "colab": {
          "base_uri": "https://localhost:8080/"
        },
        "outputId": "b0acaa20-682f-4366-8782-7d0ddb3f60f5"
      },
      "id": "UfPGyNsjGGS8",
      "execution_count": null,
      "outputs": [
        {
          "output_type": "stream",
          "name": "stdout",
          "text": [
            "Лучший alpha (коэффициент регуляризации) для Ridge: 0.2329951810515372\n",
            "Среднее значение MAE на кросс-валидации (Ridge): 110.07\n"
          ]
        }
      ]
    },
    {
      "cell_type": "markdown",
      "source": [
        "*   Лучший alpha (коэффициент регуляризации)\n",
        "для Ridge: 0.2329951810515372\n",
        "*   Среднее значение MAE на кросс-валидации (Ridge): 110.07"
      ],
      "metadata": {
        "id": "dQBd7ny_GIi1"
      },
      "id": "dQBd7ny_GIi1"
    },
    {
      "cell_type": "markdown",
      "source": [
        "**Критерии оценивания:**\n",
        "\n",
        "- Задание выполнено верно, учтены все условия (**2 балла**):\n",
        "    * правильно построена модель полиномиальной регрессии (линейной регрессии на полиномиальных признаках) с регуляризацией (Ridge), учтены условия необходимости масштабирования факторов для построения модели;\n",
        "    * приведён код для подбора параметра регуляризации (вручную или с помощью библиотечных инструментов);\n",
        "    * с помощью кросс-валидации оценено среднее значение выбранной студентом метрики (или метрик) на тренировочных и валидационных фолдах (метрика должна быть выбрана корректно).\n",
        "\n",
        "- Задание выполнено верно, но не учтено одно из условий (**1 балл**).\n",
        "- Задание выполнено неверно, не учтено несколько условий (**0 баллов**)."
      ],
      "metadata": {
        "id": "86pXnWE7-5ch"
      },
      "id": "86pXnWE7-5ch"
    },
    {
      "cell_type": "markdown",
      "id": "7ad85b78",
      "metadata": {
        "id": "7ad85b78"
      },
      "source": [
        "### Задание 8.4. (2 балла)\n",
        "\n",
        "Наконец, настало время комбинировать $L_1$ и $L_2$ -регуляризации.\n",
        "\n",
        "Обучите модель `ElasticNet` из библиотеки `sklearn` на полученных полиномиальных факторах, предварительно стандартизировав факторы.\n",
        "\n",
        "Коэффициенты регуляризации (`alpha` и `l1-ratio`) подберите самостоятельно с помощью любого известного вам метода подбора гиперпаметров.\n",
        "\n",
        "Используя кросс-валидацию, оцените среднее значение метрики MAPE на тренировочных и валидационных фолдах.\n",
        "\n",
        "Проинтерпретируйте полученные результаты."
      ]
    },
    {
      "cell_type": "code",
      "source": [],
      "metadata": {
        "id": "XTnBkNm3oHi1"
      },
      "id": "XTnBkNm3oHi1",
      "execution_count": null,
      "outputs": []
    },
    {
      "cell_type": "code",
      "source": [],
      "metadata": {
        "id": "e3r0qQLSoL6Z"
      },
      "id": "e3r0qQLSoL6Z",
      "execution_count": null,
      "outputs": []
    },
    {
      "cell_type": "markdown",
      "source": [
        "**Критерии оценивания:**\n",
        "\n",
        "- Задание выполнено верно, учтены все условия (**2 балла**):\n",
        "    * правильно построена модель полиномиальной регрессии (линейной регрессии на полиномиальных признаках) с регуляризацией (ElasticNet), учтены условия необходимости масштабирования факторов для построения модели;\n",
        "    * приведён код для подбора параметра регуляризации (вручную или с помощью библиотечных инструментов);\n",
        "    * с помощью кросс-валидации оценено среднее значение выбранной студентом метрики (или метрик) на тренировочных и валидационных фолдах (метрика должна быть выбрана корректно).\n",
        "\n",
        "- Задание выполнено верно, но не учтено одно из условий (**1 балл**).\n",
        "- Задание выполнено неверно, не учтено несколько условий (**0 баллов**)."
      ],
      "metadata": {
        "id": "sy8ESceQ-__u"
      },
      "id": "sy8ESceQ-__u"
    },
    {
      "cell_type": "code",
      "source": [
        "from sklearn.linear_model import ElasticNet\n",
        "from sklearn.metrics import make_scorer, mean_absolute_percentage_error\n",
        "\n",
        "# Настройка GridSearchCV для подбора alpha и l1_ratio\n",
        "param_grid_elastic = {\n",
        "    'alpha': np.logspace(-4, 1, 50),\n",
        "    'l1_ratio': np.linspace(0.1, 0.9, 10)\n",
        "}\n",
        "\n",
        "# Инициализация модели ElasticNet\n",
        "elastic_net = ElasticNet(max_iter=10000)\n",
        "\n",
        "# Настройка метрики MAPE\n",
        "mape_scorer = make_scorer(mean_absolute_percentage_error, greater_is_better=False)\n",
        "\n",
        "# GridSearchCV для подбора гиперпараметров\n",
        "grid_search_elastic = GridSearchCV(elastic_net, param_grid_elastic, scoring=mape_scorer, cv=5, n_jobs=-1)\n",
        "grid_search_elastic.fit(X_poly, y)\n",
        "\n",
        "# Лучшие параметры alpha и l1_ratio\n",
        "best_params_elastic = grid_search_elastic.best_params_\n",
        "print(f\"Лучшие параметры для ElasticNet: {best_params_elastic}\")\n",
        "\n",
        "# Построение модели ElasticNet с лучшими параметрами\n",
        "elastic_net_best = ElasticNet(alpha=best_params_elastic['alpha'], l1_ratio=best_params_elastic['l1_ratio'], max_iter=10000)\n",
        "elastic_net_best.fit(X_poly, y)\n",
        "\n",
        "# Кросс-валидация с метрикой MAPE\n",
        "cv_scores_elastic = cross_val_score(elastic_net_best, X_poly, y, cv=5, scoring=mape_scorer)\n",
        "\n",
        "# Среднее значение MAPE\n",
        "mean_mape_elastic = -cv_scores_elastic.mean()\n",
        "print(f\"Среднее значение MAPE на кросс-валидации (ElasticNet): {mean_mape_elastic:.4f}\")"
      ],
      "metadata": {
        "id": "-Yi3P20hQnLS",
        "colab": {
          "base_uri": "https://localhost:8080/"
        },
        "outputId": "2fc0fbc8-64d3-466f-c2f5-a819acd66af6"
      },
      "id": "-Yi3P20hQnLS",
      "execution_count": null,
      "outputs": [
        {
          "output_type": "stream",
          "name": "stdout",
          "text": [
            "Лучшие параметры для ElasticNet: {'alpha': 0.013894954943731374, 'l1_ratio': 0.9}\n",
            "Среднее значение MAPE на кросс-валидации (ElasticNet): 0.0267\n"
          ]
        }
      ]
    },
    {
      "cell_type": "markdown",
      "source": [
        "**Объяснение результатов:**\n",
        "\n",
        "\n",
        "**Лучшие параметры для ElasticNet:**\n",
        "\n",
        "* alpha: 0.0139\n",
        "\n",
        "Коэффициент регуляризации, который балансирует между штрафом за сумму абсолютных значений коэффициентов (L1) и сумму квадратов коэффициентов (L2).\n",
        "\n",
        "Небольшое значение alpha означает, что регуляризация оказала умеренное влияние на модель, сохраняя важные признаки и их значения.\n",
        "\n",
        "* l1_ratio: 0.9\n",
        "\n",
        "Это соотношение между L1 и L2 регуляризацией. Значение 0.9 указывает, что модель отдала предпочтение L1-регуляризации (отбор признаков), но также учитывала элементы L2-регуляризации (сглаживание коэффициентов).\n",
        "\n",
        "* Среднее значение MAPE на кросс-валидации: 0.0267\n",
        "\n",
        "MAPE (Mean Absolute Percentage Error) измеряет среднюю абсолютную ошибку как процент от фактических значений.\n",
        "\n",
        "Значение 0.0267 указывает, что модель, в среднем, ошибается примерно на 2.67% от фактических значений.\n",
        "\n",
        "Это очень хорошее значение, свидетельствующее о высокой точности модели.\n",
        "\n",
        "**Интерпретация в контексте задачи:**\n",
        "\n",
        "* Модель ElasticNet с оптимальными параметрами хорошо подходит для прогнозирования выработки газа.\n",
        "\n",
        "* Она сохранила ключевые признаки (благодаря L1-регуляризации) и минимизировала переобучение (через L2-регуляризацию).\n",
        "\n",
        "* Низкое значение MAPE указывает на то, что модель способна предоставлять точные прогнозы и будет полезна для принятия бизнес-решений Василия, владельца компании.\n",
        "\n",
        "**Сравнение с предыдущими моделями:**\n",
        "\n",
        "MAPE модели ElasticNet (2.67%) лучше, чем MAE предыдущих моделей в абсолютных величинах.\n",
        "\n",
        "Комбинация L1 и L2-регуляризации позволила найти баланс между точностью и стабильностью модели.\n",
        "\n",
        "**Итог:**\n",
        "\n",
        "Модель ElasticNet с параметрами alpha = 0.0139 и l1_ratio = 0.9 демонстрирует высокую точность и стабильность, что делает её оптимальным выбором для задачи прогнозирования выработки газа.\n",
        "\n",
        "Это подтверждается низким значением MAPE, что указывает на малые относительные ошибки модели."
      ],
      "metadata": {
        "id": "er2lAiE9QpAb"
      },
      "id": "er2lAiE9QpAb"
    },
    {
      "cell_type": "markdown",
      "id": "91c6e1d1",
      "metadata": {
        "id": "91c6e1d1"
      },
      "source": [
        "### Задание 8.5. (1 балл)\n",
        "\n",
        "Завершением вашей работы будет сводная таблица результатов, которую вы представите на презентации заказчику Василию.\n",
        "\n",
        "Составьте таблицу (DataFrame) со следующими столбцами (имена столбцов выберите самостоятельно):\n",
        "* Наименование модели.\n",
        "* Гиперпараметры (коэффициенты регуляризации, если таковые имеются), если нет — оставьте ячейку пустой.\n",
        "* Использовались ли полиномиальные признаки при построении модели (Да/Нет или True/False).\n",
        "* Значение выбранной метрики на тренировочных фолдах при кросс-валидации модели.\n",
        "* Значение выбранной метрики на валидационных фолдах при кросс-валидации модели.\n",
        "\n",
        "Сделайте финальный вывод по проделанной работе. Какая линейная модель из тех, что мы рассмотрели, показала наилучший результат с точки зрения качества на валидационных фолдах, а также с точки зрения переобученности?"
      ]
    },
    {
      "cell_type": "markdown",
      "source": [
        "**Критерии оценивания:**\n",
        "\n",
        "- Задание выполнено верно, учтены все условия (**1 балл**):\n",
        "    * верно составлена сводная таблица итоговых результатов построенных ранее моделей с указанными в задании столбцами;\n",
        "    * приведены итоговые выводы по проделанной работе, указано, какая из рассмотренных моделей показала наилучший результат.\n",
        "\n",
        "- Задание выполнено неверно, не учтено одно или несколько условий (**0 баллов**)."
      ],
      "metadata": {
        "id": "OsFRaKkF_nLq"
      },
      "id": "OsFRaKkF_nLq"
    },
    {
      "cell_type": "code",
      "source": [
        "import pandas as pd\n",
        "\n",
        "# Данные для таблицы\n",
        "data = {\n",
        "    'Наименование модели': [\n",
        "        'Линейная регрессия (обычная)',\n",
        "        'Линейная регрессия с полиномиальными признаками',\n",
        "        'L1-регуляризация (Lasso)',\n",
        "        'L2-регуляризация (Ridge)',\n",
        "        'L1+L2-регуляризация (ElasticNet)'\n",
        "    ],\n",
        "    'Гиперпараметры': [\n",
        "        None,\n",
        "        None,\n",
        "        \"alpha=0.0139\",\n",
        "        \"alpha=0.232995\",\n",
        "        \"alpha=0.0139, l1_ratio=0.9\"\n",
        "    ],\n",
        "    'Полиномиальные признаки': [\n",
        "        False,\n",
        "        True,\n",
        "        True,\n",
        "        True,\n",
        "        True\n",
        "    ],\n",
        "\n",
        "    'Значение метрики (валидационные фолды)': [\n",
        "        171.43,\n",
        "        110.47,\n",
        "        95.69,\n",
        "        110.07,\n",
        "        0.0267\n",
        "    ]\n",
        "}\n",
        "\n",
        "# Создание DataFrame\n",
        "summary_table = pd.DataFrame(data)\n",
        "\n",
        "# Вывод таблицы\n",
        "print(summary_table.to_markdown(index=False))"
      ],
      "metadata": {
        "id": "wRiys8lKQuqW",
        "colab": {
          "base_uri": "https://localhost:8080/"
        },
        "outputId": "11f67a3b-bcbc-47d8-a7e3-b5170a575bc6"
      },
      "id": "wRiys8lKQuqW",
      "execution_count": null,
      "outputs": [
        {
          "output_type": "stream",
          "name": "stdout",
          "text": [
            "| Наименование модели                             | Гиперпараметры             | Полиномиальные признаки   |   Значение метрики (валидационные фолды) |\n",
            "|:------------------------------------------------|:---------------------------|:--------------------------|-----------------------------------------:|\n",
            "| Линейная регрессия (обычная)                    |                            | False                     |                                 171.43   |\n",
            "| Линейная регрессия с полиномиальными признаками |                            | True                      |                                 110.47   |\n",
            "| L1-регуляризация (Lasso)                        | alpha=0.0139               | True                      |                                  95.69   |\n",
            "| L2-регуляризация (Ridge)                        | alpha=0.232995             | True                      |                                 110.07   |\n",
            "| L1+L2-регуляризация (ElasticNet)                | alpha=0.0139, l1_ratio=0.9 | True                      |                                   0.0267 |\n"
          ]
        }
      ]
    },
    {
      "cell_type": "markdown",
      "source": [
        "> *Ваши выводы здесь*"
      ],
      "metadata": {
        "id": "UP7_LSoEQsrA"
      },
      "id": "UP7_LSoEQsrA"
    },
    {
      "cell_type": "code",
      "source": [
        "# Данные с учётом ElasticNet\n",
        "models = [\n",
        "    'Линейная регрессия (обычная)',\n",
        "    'Линейная регрессия с полиномиальными признаками',\n",
        "    'L1-регуляризация (Lasso)',\n",
        "    'L2-регуляризация (Ridge)',\n",
        "    'L1+L2-регуляризация (ElasticNet)'\n",
        "]\n",
        "val_scores = [171.43, 110.47, 95.69, 110.07, 0.0267]\n",
        "\n",
        "# Построение графика с ElasticNet\n",
        "plt.figure(figsize=(12, 6))\n",
        "bars = plt.barh(models, val_scores, color=['#ff9999', '#66b3ff', '#99ff99', '#ffcc99', '#c2c2f0'])\n",
        "plt.xlabel('Значение метрики (валидационные фолды)', fontsize=12)\n",
        "plt.ylabel('Модель', fontsize=12)\n",
        "plt.title('Сравнение моделей по валидационным метрикам', fontsize=14)\n",
        "plt.gca().invert_yaxis()  # Инвертировать ось Y для удобства чтения\n",
        "plt.grid(axis='x', linestyle='--', alpha=0.7)\n",
        "\n",
        "# Добавление аннотаций с метриками\n",
        "for bar, score in zip(bars, val_scores):\n",
        "    plt.text(bar.get_width() + 1, bar.get_y() + bar.get_height()/2,\n",
        "             f'{score:.4f}' if score < 1 else f'{score:.2f}',\n",
        "             va='center', fontsize=10)\n",
        "\n",
        "plt.tight_layout()\n",
        "plt.show()"
      ],
      "metadata": {
        "colab": {
          "base_uri": "https://localhost:8080/",
          "height": 496
        },
        "id": "QUnoRAjjoWBN",
        "outputId": "2b79787b-688b-4231-ce86-fa576e866cff"
      },
      "id": "QUnoRAjjoWBN",
      "execution_count": null,
      "outputs": [
        {
          "output_type": "display_data",
          "data": {
            "text/plain": [
              "<Figure size 1200x600 with 1 Axes>"
            ],
            "image/png": "[encoded data removed]"
          },
          "metadata": {}
        }
      ]
    },
    {
      "cell_type": "markdown",
      "source": [
        "# Выводы по результатам моделей\n",
        "Наилучшая модель:\n",
        "**Текст, выделенный полужирным шрифтом**\n",
        "\n",
        "*   **Модель ElasticNet** с параметрами alpha = 0.0139 и l1_ratio = 0.9 продемонстрировала лучшее качество среди всех протестированных моделей.\n",
        " Среднее значение MAPE на валидационных фолдах составило всего 2.67%, что значительно ниже, чем MAE у других моделей.\n",
        "\n",
        "Сравнение с другими моделями:\n",
        "\n",
        "*  **Линейная регрессия (обычная):** показала наибольшую ошибку (171.43), что связано с её неспособностью моделировать нелинейные зависимости.\n",
        "*  **Полиномиальная регрессия без регуляризации:** улучшила результат до 110.47, но без регуляризации возникает риск переобучения.\n",
        "*   **Lasso и Ridge:** обе модели продемонстрировали хорошие результаты, но уступили ElasticNet.\n",
        "\n",
        "\n",
        "Роль полиномиальных признаков:\n",
        "\n",
        "**Использование полиномиальных признаков** было ключевым фактором для улучшения качества моделей, так как они позволяют учитывать нелинейные зависимости между признаками и целевой переменной.\n",
        "Заключение:\n",
        "\n",
        "**Модель ElasticNet является оптимальным выбором, так как она сочетает в себе точность предсказаний, устойчивость к переобучению и эффективность в отборе значимых признаков.**"
      ],
      "metadata": {
        "id": "UbZ96DzZoadC"
      },
      "id": "UbZ96DzZoadC"
    }
  ],
  "metadata": {
    "kernelspec": {
      "display_name": "Python 3.10.8 ('base')",
      "language": "python",
      "name": "python3"
    },
    "language_info": {
      "codemirror_mode": {
        "name": "ipython",
        "version": 3
      },
      "file_extension": ".py",
      "mimetype": "text/x-python",
      "name": "python",
      "nbconvert_exporter": "python",
      "pygments_lexer": "ipython3",
      "version": "3.10.8"
    },
    "vscode": {
      "interpreter": {
        "hash": "86c56a74836ad344b00594bf6f38fa6a676a207ceefe20d101fbc465800ccb8d"
      }
    },
    "colab": {
      "provenance": []
    }
  },
  "nbformat": 4,
  "nbformat_minor": 5
}